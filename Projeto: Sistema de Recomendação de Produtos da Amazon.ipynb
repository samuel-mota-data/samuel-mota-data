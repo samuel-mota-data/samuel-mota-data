{
  "cells": [
    {
      "cell_type": "markdown",
      "metadata": {
        "id": "view-in-github",
        "colab_type": "text"
      },
      "source": [
        "<a href=\"https://colab.research.google.com/github/samuel-mota-data/samuel-mota-data/blob/main/Projeto%3A%20Sistema%20de%20Recomenda%C3%A7%C3%A3o%20de%20Produtos%20da%20Amazon.ipynb\" target=\"_parent\"><img src=\"https://colab.research.google.com/assets/colab-badge.svg\" alt=\"Open In Colab\"/></a>"
      ]
    },
    {
      "cell_type": "markdown",
      "metadata": {
        "lang": "pt",
        "id": "91k40MeUNkyf"
      },
      "source": [
        "# **Projeto: Sistema de Recomendação de Produtos da Amazon**\n",
        "\n",
        "\n",
        "Bem-vindo(a) ao projeto sobre sistemas de recomendação. Trabalharemos com o conjunto de dados de notas atribuídas a produtos da Amazon neste projeto. O conjunto de dados contém as notas atribuídas a diferentes produtos eletrônicos. Ele não inclui informações sobre os produtos ou avaliações para evitar que haja viés durante a construção do modelo.\n",
        "\n",
        "--------------\n",
        "## **Contexto:**\n",
        "--------------\n",
        "\n",
        "Atualmente, a informação está crescendo exponencialmente em volume, velocidade e variedade em todo o mundo. Isso tem levado a uma sobrecarga de informações e a muitas opções para o consumidor de qualquer empresa. Isso representa um verdadeiro dilema para esses consumidores, e eles frequentemente recorrem à negação. Os sistemas de recomendação são uma das melhores ferramentas que ajudam a recomendar produtos aos consumidores enquanto eles navegam on-line. Fornecer recomendações personalizadas, que sejam mais relevantes para os usuários, é o que tem mais chance de mantê-los engajados e ajudar a empresa.\n",
        "\n",
        "Sites de e-commerce, como Amazon, Walmart, Target e Etsy, usam diferentes modelos de recomendação para fornecer sugestões personalizadas para diferentes usuários. Essas empresas gastam milhões de dólares para elaborar técnicas algorítmicas que possam fornecer recomendações personalizadas a seus usuários.\n",
        "\n",
        "A Amazon, por exemplo, é conhecida por sua seleção acurada de recomendações em seu site on-line. O sistema de recomendação da Amazon é capaz de analisar e prever de forma inteligente as preferências de compra dos clientes para oferecer a eles uma lista de produtos recomendados. O algoritmo de recomendação da Amazon é, portanto, um elemento essencial no uso da IA para melhorar a personalização de seu site. Por exemplo, um dos modelos de recomendação padrão que a Amazon utiliza é o de filtragem colaborativa item-item, que escala para conjuntos de dados massivos e produz recomendações de alta qualidade em tempo real.\n",
        "\n",
        "----------------\n",
        "## **Objetivo:**\n",
        "----------------\n",
        "\n",
        "Você é o gerente de ciência de dados da Amazon e recebeu a tarefa de criar um sistema de recomendação para recomendar produtos aos clientes com base nas notas que eles atribuíram a outros produtos anteriormente. Você tem uma coleção de dados rotulados de notas atribuídas a produtos da Amazon. O objetivo é extrair insights relevantes dos dados e criar um sistema de recomendação que ajude a recomendar produtos para consumidores on-line.\n",
        "\n",
        "------------------------\n",
        "## **Conjunto de dados:**\n",
        "------------------------\n",
        "\n",
        "O conjunto de dados da Amazon contém os seguintes atributos:\n",
        "\n",
        "- **userId:** cada usuário é identificado com um id único.\n",
        "- **productId:** cada produto é identificado com um id único.\n",
        "- **Rating:** a nota do produto correspondente dada pelo usuário correspondente.\n",
        "- **timestamp:** horário em que a nota foi atribuída. **Não usaremos esta coluna** para resolver o problema atual."
      ]
    },
    {
      "cell_type": "markdown",
      "metadata": {
        "lang": "pt",
        "id": "MifcnRvSNkyl"
      },
      "source": [
        "**Nota:** o código tem algumas funções definidas pelo usuário, que serão úteis ao sugerir recomendações e para medir o desempenho do modelo. Você pode usar essas funções ou criar suas próprias funções."
      ]
    },
    {
      "cell_type": "markdown",
      "metadata": {
        "lang": "pt",
        "id": "26vIE2nBNkym"
      },
      "source": [
        "Às vezes, a instalação da biblioteca \"Surprise\", usada para criar sistemas de recomendação, gera problemas no Jupyter. Para evitar quaisquer problemas, é aconselhável utilizar o **Google Colab** neste projeto.\n",
        "\n",
        "Começaremos montando o Google Drive no Colab."
      ]
    },
    {
      "cell_type": "code",
      "execution_count": null,
      "metadata": {
        "id": "GZ0YAszcT4zK",
        "colab": {
          "base_uri": "https://localhost:8080/"
        },
        "outputId": "e552ee7b-08ff-46b0-dfc4-0c937b020883"
      },
      "outputs": [
        {
          "output_type": "stream",
          "name": "stdout",
          "text": [
            "Mounted at /content/ratings_Electronics.csv\n"
          ]
        }
      ],
      "source": [
        "from google.colab import drive\n",
        "drive.mount('/content/ratings_Electronics.csv')"
      ]
    },
    {
      "cell_type": "markdown",
      "metadata": {
        "lang": "pt",
        "id": "h7fYE1_mNkyo"
      },
      "source": [
        "**Instalando a biblioteca \"Surprise\"**"
      ]
    },
    {
      "cell_type": "code",
      "execution_count": null,
      "metadata": {
        "id": "05HQoiZYlsbB",
        "colab": {
          "base_uri": "https://localhost:8080/"
        },
        "outputId": "2836d186-f681-4658-b591-72726d5a7a59"
      },
      "outputs": [
        {
          "output_type": "stream",
          "name": "stdout",
          "text": [
            "Collecting surprise\n",
            "  Downloading surprise-0.1-py2.py3-none-any.whl (1.8 kB)\n",
            "Collecting scikit-surprise (from surprise)\n",
            "  Downloading scikit-surprise-1.1.3.tar.gz (771 kB)\n",
            "\u001b[2K     \u001b[90m━━━━━━━━━━━━━━━━━━━━━━━━━━━━━━━━━━━━━━━━\u001b[0m \u001b[32m772.0/772.0 kB\u001b[0m \u001b[31m4.6 MB/s\u001b[0m eta \u001b[36m0:00:00\u001b[0m\n",
            "\u001b[?25h  Preparing metadata (setup.py) ... \u001b[?25l\u001b[?25hdone\n",
            "Requirement already satisfied: joblib>=1.0.0 in /usr/local/lib/python3.10/dist-packages (from scikit-surprise->surprise) (1.3.2)\n",
            "Requirement already satisfied: numpy>=1.17.3 in /usr/local/lib/python3.10/dist-packages (from scikit-surprise->surprise) (1.23.5)\n",
            "Requirement already satisfied: scipy>=1.3.2 in /usr/local/lib/python3.10/dist-packages (from scikit-surprise->surprise) (1.11.4)\n",
            "Building wheels for collected packages: scikit-surprise\n",
            "  Building wheel for scikit-surprise (setup.py) ... \u001b[?25l\u001b[?25hdone\n",
            "  Created wheel for scikit-surprise: filename=scikit_surprise-1.1.3-cp310-cp310-linux_x86_64.whl size=3163760 sha256=a765729bcf7355915133f2c400a6e77ec6b3da13d528f578252ce69db2fb2b03\n",
            "  Stored in directory: /root/.cache/pip/wheels/a5/ca/a8/4e28def53797fdc4363ca4af740db15a9c2f1595ebc51fb445\n",
            "Successfully built scikit-surprise\n",
            "Installing collected packages: scikit-surprise, surprise\n",
            "Successfully installed scikit-surprise-1.1.3 surprise-0.1\n"
          ]
        }
      ],
      "source": [
        "!pip install surprise"
      ]
    },
    {
      "cell_type": "markdown",
      "metadata": {
        "lang": "pt",
        "id": "eFCCbeNbNkyq"
      },
      "source": [
        "## **Importando as bibliotecas necessárias e visão geral do conjunto de dados**"
      ]
    },
    {
      "cell_type": "code",
      "execution_count": null,
      "metadata": {
        "id": "jzu2P-TT5JtP"
      },
      "outputs": [],
      "source": [
        "# Basic python libraries\n",
        "import numpy as np\n",
        "import pandas as pd\n",
        "\n",
        "# Python libraries for data visualization\n",
        "import matplotlib.pyplot as plt\n",
        "import seaborn as sns\n",
        "import matplotlib.patches as patches\n",
        "\n",
        "# For implementing matrix factorization based recommendation system\n",
        "from surprise.prediction_algorithms.matrix_factorization import SVD\n",
        "from collections import defaultdict\n",
        "\n",
        "# For implementing cross validation\n",
        "from surprise.model_selection import KFold\n",
        "\n",
        "import warnings\n",
        "warnings.filterwarnings('ignore')"
      ]
    },
    {
      "cell_type": "markdown",
      "metadata": {
        "lang": "pt",
        "id": "vhEdZjgINkyr"
      },
      "source": [
        "### **Carregando os dados**\n",
        "- Importe o conjunto de dados.\n",
        "- Adicione os nomes das colunas ['user_id', 'prod_id', 'rating', 'timestamp'].\n",
        "- Descarte a coluna de timestamp.\n",
        "- Copie os dados para outro DataFrame, chamado **df**."
      ]
    },
    {
      "cell_type": "code",
      "execution_count": null,
      "metadata": {
        "id": "JGb-Hk1B5JtP",
        "colab": {
          "base_uri": "https://localhost:8080/",
          "height": 390
        },
        "outputId": "f0eacddf-b157-4f6c-acf6-291bd64adcaf"
      },
      "outputs": [
        {
          "output_type": "error",
          "ename": "FileNotFoundError",
          "evalue": "ignored",
          "traceback": [
            "\u001b[0;31m---------------------------------------------------------------------------\u001b[0m",
            "\u001b[0;31mFileNotFoundError\u001b[0m                         Traceback (most recent call last)",
            "\u001b[0;32m<ipython-input-2-5f5e4abc4e21>\u001b[0m in \u001b[0;36m<cell line: 3>\u001b[0;34m()\u001b[0m\n\u001b[1;32m      1\u001b[0m \u001b[0;31m# prompt: carregue os dados do caminho /content/sample_data/ratings_Electronics.csv\u001b[0m\u001b[0;34m\u001b[0m\u001b[0;34m\u001b[0m\u001b[0m\n\u001b[1;32m      2\u001b[0m \u001b[0;34m\u001b[0m\u001b[0m\n\u001b[0;32m----> 3\u001b[0;31m \u001b[0mdf\u001b[0m \u001b[0;34m=\u001b[0m \u001b[0mpd\u001b[0m\u001b[0;34m.\u001b[0m\u001b[0mread_csv\u001b[0m\u001b[0;34m(\u001b[0m\u001b[0;34m'/content/sample_data/ratings_Electronics.csv'\u001b[0m\u001b[0;34m,\u001b[0m \u001b[0mnames\u001b[0m\u001b[0;34m=\u001b[0m\u001b[0;34m[\u001b[0m\u001b[0;34m'user_id'\u001b[0m\u001b[0;34m,\u001b[0m \u001b[0;34m'prod_id'\u001b[0m\u001b[0;34m,\u001b[0m \u001b[0;34m'rating'\u001b[0m\u001b[0;34m,\u001b[0m \u001b[0;34m'timestamp'\u001b[0m\u001b[0;34m]\u001b[0m\u001b[0;34m)\u001b[0m\u001b[0;34m\u001b[0m\u001b[0;34m\u001b[0m\u001b[0m\n\u001b[0m\u001b[1;32m      4\u001b[0m \u001b[0mdf\u001b[0m\u001b[0;34m.\u001b[0m\u001b[0mdrop\u001b[0m\u001b[0;34m(\u001b[0m\u001b[0;34m'timestamp'\u001b[0m\u001b[0;34m,\u001b[0m \u001b[0maxis\u001b[0m\u001b[0;34m=\u001b[0m\u001b[0;36m1\u001b[0m\u001b[0;34m,\u001b[0m \u001b[0minplace\u001b[0m\u001b[0;34m=\u001b[0m\u001b[0;32mTrue\u001b[0m\u001b[0;34m)\u001b[0m\u001b[0;34m\u001b[0m\u001b[0;34m\u001b[0m\u001b[0m\n\u001b[1;32m      5\u001b[0m \u001b[0mdf\u001b[0m\u001b[0;34m.\u001b[0m\u001b[0mhead\u001b[0m\u001b[0;34m(\u001b[0m\u001b[0;34m)\u001b[0m\u001b[0;34m\u001b[0m\u001b[0;34m\u001b[0m\u001b[0m\n",
            "\u001b[0;32m/usr/local/lib/python3.10/dist-packages/pandas/util/_decorators.py\u001b[0m in \u001b[0;36mwrapper\u001b[0;34m(*args, **kwargs)\u001b[0m\n\u001b[1;32m    209\u001b[0m                 \u001b[0;32melse\u001b[0m\u001b[0;34m:\u001b[0m\u001b[0;34m\u001b[0m\u001b[0;34m\u001b[0m\u001b[0m\n\u001b[1;32m    210\u001b[0m                     \u001b[0mkwargs\u001b[0m\u001b[0;34m[\u001b[0m\u001b[0mnew_arg_name\u001b[0m\u001b[0;34m]\u001b[0m \u001b[0;34m=\u001b[0m \u001b[0mnew_arg_value\u001b[0m\u001b[0;34m\u001b[0m\u001b[0;34m\u001b[0m\u001b[0m\n\u001b[0;32m--> 211\u001b[0;31m             \u001b[0;32mreturn\u001b[0m \u001b[0mfunc\u001b[0m\u001b[0;34m(\u001b[0m\u001b[0;34m*\u001b[0m\u001b[0margs\u001b[0m\u001b[0;34m,\u001b[0m \u001b[0;34m**\u001b[0m\u001b[0mkwargs\u001b[0m\u001b[0;34m)\u001b[0m\u001b[0;34m\u001b[0m\u001b[0;34m\u001b[0m\u001b[0m\n\u001b[0m\u001b[1;32m    212\u001b[0m \u001b[0;34m\u001b[0m\u001b[0m\n\u001b[1;32m    213\u001b[0m         \u001b[0;32mreturn\u001b[0m \u001b[0mcast\u001b[0m\u001b[0;34m(\u001b[0m\u001b[0mF\u001b[0m\u001b[0;34m,\u001b[0m \u001b[0mwrapper\u001b[0m\u001b[0;34m)\u001b[0m\u001b[0;34m\u001b[0m\u001b[0;34m\u001b[0m\u001b[0m\n",
            "\u001b[0;32m/usr/local/lib/python3.10/dist-packages/pandas/util/_decorators.py\u001b[0m in \u001b[0;36mwrapper\u001b[0;34m(*args, **kwargs)\u001b[0m\n\u001b[1;32m    329\u001b[0m                     \u001b[0mstacklevel\u001b[0m\u001b[0;34m=\u001b[0m\u001b[0mfind_stack_level\u001b[0m\u001b[0;34m(\u001b[0m\u001b[0;34m)\u001b[0m\u001b[0;34m,\u001b[0m\u001b[0;34m\u001b[0m\u001b[0;34m\u001b[0m\u001b[0m\n\u001b[1;32m    330\u001b[0m                 )\n\u001b[0;32m--> 331\u001b[0;31m             \u001b[0;32mreturn\u001b[0m \u001b[0mfunc\u001b[0m\u001b[0;34m(\u001b[0m\u001b[0;34m*\u001b[0m\u001b[0margs\u001b[0m\u001b[0;34m,\u001b[0m \u001b[0;34m**\u001b[0m\u001b[0mkwargs\u001b[0m\u001b[0;34m)\u001b[0m\u001b[0;34m\u001b[0m\u001b[0;34m\u001b[0m\u001b[0m\n\u001b[0m\u001b[1;32m    332\u001b[0m \u001b[0;34m\u001b[0m\u001b[0m\n\u001b[1;32m    333\u001b[0m         \u001b[0;31m# error: \"Callable[[VarArg(Any), KwArg(Any)], Any]\" has no\u001b[0m\u001b[0;34m\u001b[0m\u001b[0;34m\u001b[0m\u001b[0m\n",
            "\u001b[0;32m/usr/local/lib/python3.10/dist-packages/pandas/io/parsers/readers.py\u001b[0m in \u001b[0;36mread_csv\u001b[0;34m(filepath_or_buffer, sep, delimiter, header, names, index_col, usecols, squeeze, prefix, mangle_dupe_cols, dtype, engine, converters, true_values, false_values, skipinitialspace, skiprows, skipfooter, nrows, na_values, keep_default_na, na_filter, verbose, skip_blank_lines, parse_dates, infer_datetime_format, keep_date_col, date_parser, dayfirst, cache_dates, iterator, chunksize, compression, thousands, decimal, lineterminator, quotechar, quoting, doublequote, escapechar, comment, encoding, encoding_errors, dialect, error_bad_lines, warn_bad_lines, on_bad_lines, delim_whitespace, low_memory, memory_map, float_precision, storage_options)\u001b[0m\n\u001b[1;32m    948\u001b[0m     \u001b[0mkwds\u001b[0m\u001b[0;34m.\u001b[0m\u001b[0mupdate\u001b[0m\u001b[0;34m(\u001b[0m\u001b[0mkwds_defaults\u001b[0m\u001b[0;34m)\u001b[0m\u001b[0;34m\u001b[0m\u001b[0;34m\u001b[0m\u001b[0m\n\u001b[1;32m    949\u001b[0m \u001b[0;34m\u001b[0m\u001b[0m\n\u001b[0;32m--> 950\u001b[0;31m     \u001b[0;32mreturn\u001b[0m \u001b[0m_read\u001b[0m\u001b[0;34m(\u001b[0m\u001b[0mfilepath_or_buffer\u001b[0m\u001b[0;34m,\u001b[0m \u001b[0mkwds\u001b[0m\u001b[0;34m)\u001b[0m\u001b[0;34m\u001b[0m\u001b[0;34m\u001b[0m\u001b[0m\n\u001b[0m\u001b[1;32m    951\u001b[0m \u001b[0;34m\u001b[0m\u001b[0m\n\u001b[1;32m    952\u001b[0m \u001b[0;34m\u001b[0m\u001b[0m\n",
            "\u001b[0;32m/usr/local/lib/python3.10/dist-packages/pandas/io/parsers/readers.py\u001b[0m in \u001b[0;36m_read\u001b[0;34m(filepath_or_buffer, kwds)\u001b[0m\n\u001b[1;32m    603\u001b[0m \u001b[0;34m\u001b[0m\u001b[0m\n\u001b[1;32m    604\u001b[0m     \u001b[0;31m# Create the parser.\u001b[0m\u001b[0;34m\u001b[0m\u001b[0;34m\u001b[0m\u001b[0m\n\u001b[0;32m--> 605\u001b[0;31m     \u001b[0mparser\u001b[0m \u001b[0;34m=\u001b[0m \u001b[0mTextFileReader\u001b[0m\u001b[0;34m(\u001b[0m\u001b[0mfilepath_or_buffer\u001b[0m\u001b[0;34m,\u001b[0m \u001b[0;34m**\u001b[0m\u001b[0mkwds\u001b[0m\u001b[0;34m)\u001b[0m\u001b[0;34m\u001b[0m\u001b[0;34m\u001b[0m\u001b[0m\n\u001b[0m\u001b[1;32m    606\u001b[0m \u001b[0;34m\u001b[0m\u001b[0m\n\u001b[1;32m    607\u001b[0m     \u001b[0;32mif\u001b[0m \u001b[0mchunksize\u001b[0m \u001b[0;32mor\u001b[0m \u001b[0miterator\u001b[0m\u001b[0;34m:\u001b[0m\u001b[0;34m\u001b[0m\u001b[0;34m\u001b[0m\u001b[0m\n",
            "\u001b[0;32m/usr/local/lib/python3.10/dist-packages/pandas/io/parsers/readers.py\u001b[0m in \u001b[0;36m__init__\u001b[0;34m(self, f, engine, **kwds)\u001b[0m\n\u001b[1;32m   1440\u001b[0m \u001b[0;34m\u001b[0m\u001b[0m\n\u001b[1;32m   1441\u001b[0m         \u001b[0mself\u001b[0m\u001b[0;34m.\u001b[0m\u001b[0mhandles\u001b[0m\u001b[0;34m:\u001b[0m \u001b[0mIOHandles\u001b[0m \u001b[0;34m|\u001b[0m \u001b[0;32mNone\u001b[0m \u001b[0;34m=\u001b[0m \u001b[0;32mNone\u001b[0m\u001b[0;34m\u001b[0m\u001b[0;34m\u001b[0m\u001b[0m\n\u001b[0;32m-> 1442\u001b[0;31m         \u001b[0mself\u001b[0m\u001b[0;34m.\u001b[0m\u001b[0m_engine\u001b[0m \u001b[0;34m=\u001b[0m \u001b[0mself\u001b[0m\u001b[0;34m.\u001b[0m\u001b[0m_make_engine\u001b[0m\u001b[0;34m(\u001b[0m\u001b[0mf\u001b[0m\u001b[0;34m,\u001b[0m \u001b[0mself\u001b[0m\u001b[0;34m.\u001b[0m\u001b[0mengine\u001b[0m\u001b[0;34m)\u001b[0m\u001b[0;34m\u001b[0m\u001b[0;34m\u001b[0m\u001b[0m\n\u001b[0m\u001b[1;32m   1443\u001b[0m \u001b[0;34m\u001b[0m\u001b[0m\n\u001b[1;32m   1444\u001b[0m     \u001b[0;32mdef\u001b[0m \u001b[0mclose\u001b[0m\u001b[0;34m(\u001b[0m\u001b[0mself\u001b[0m\u001b[0;34m)\u001b[0m \u001b[0;34m->\u001b[0m \u001b[0;32mNone\u001b[0m\u001b[0;34m:\u001b[0m\u001b[0;34m\u001b[0m\u001b[0;34m\u001b[0m\u001b[0m\n",
            "\u001b[0;32m/usr/local/lib/python3.10/dist-packages/pandas/io/parsers/readers.py\u001b[0m in \u001b[0;36m_make_engine\u001b[0;34m(self, f, engine)\u001b[0m\n\u001b[1;32m   1733\u001b[0m                 \u001b[0;32mif\u001b[0m \u001b[0;34m\"b\"\u001b[0m \u001b[0;32mnot\u001b[0m \u001b[0;32min\u001b[0m \u001b[0mmode\u001b[0m\u001b[0;34m:\u001b[0m\u001b[0;34m\u001b[0m\u001b[0;34m\u001b[0m\u001b[0m\n\u001b[1;32m   1734\u001b[0m                     \u001b[0mmode\u001b[0m \u001b[0;34m+=\u001b[0m \u001b[0;34m\"b\"\u001b[0m\u001b[0;34m\u001b[0m\u001b[0;34m\u001b[0m\u001b[0m\n\u001b[0;32m-> 1735\u001b[0;31m             self.handles = get_handle(\n\u001b[0m\u001b[1;32m   1736\u001b[0m                 \u001b[0mf\u001b[0m\u001b[0;34m,\u001b[0m\u001b[0;34m\u001b[0m\u001b[0;34m\u001b[0m\u001b[0m\n\u001b[1;32m   1737\u001b[0m                 \u001b[0mmode\u001b[0m\u001b[0;34m,\u001b[0m\u001b[0;34m\u001b[0m\u001b[0;34m\u001b[0m\u001b[0m\n",
            "\u001b[0;32m/usr/local/lib/python3.10/dist-packages/pandas/io/common.py\u001b[0m in \u001b[0;36mget_handle\u001b[0;34m(path_or_buf, mode, encoding, compression, memory_map, is_text, errors, storage_options)\u001b[0m\n\u001b[1;32m    854\u001b[0m         \u001b[0;32mif\u001b[0m \u001b[0mioargs\u001b[0m\u001b[0;34m.\u001b[0m\u001b[0mencoding\u001b[0m \u001b[0;32mand\u001b[0m \u001b[0;34m\"b\"\u001b[0m \u001b[0;32mnot\u001b[0m \u001b[0;32min\u001b[0m \u001b[0mioargs\u001b[0m\u001b[0;34m.\u001b[0m\u001b[0mmode\u001b[0m\u001b[0;34m:\u001b[0m\u001b[0;34m\u001b[0m\u001b[0;34m\u001b[0m\u001b[0m\n\u001b[1;32m    855\u001b[0m             \u001b[0;31m# Encoding\u001b[0m\u001b[0;34m\u001b[0m\u001b[0;34m\u001b[0m\u001b[0m\n\u001b[0;32m--> 856\u001b[0;31m             handle = open(\n\u001b[0m\u001b[1;32m    857\u001b[0m                 \u001b[0mhandle\u001b[0m\u001b[0;34m,\u001b[0m\u001b[0;34m\u001b[0m\u001b[0;34m\u001b[0m\u001b[0m\n\u001b[1;32m    858\u001b[0m                 \u001b[0mioargs\u001b[0m\u001b[0;34m.\u001b[0m\u001b[0mmode\u001b[0m\u001b[0;34m,\u001b[0m\u001b[0;34m\u001b[0m\u001b[0;34m\u001b[0m\u001b[0m\n",
            "\u001b[0;31mFileNotFoundError\u001b[0m: [Errno 2] No such file or directory: '/content/sample_data/ratings_Electronics.csv'"
          ]
        }
      ],
      "source": [
        "# prompt: carregue os dados do caminho /content/sample_data/ratings_Electronics.csv\n",
        "\n",
        "df = pd.read_csv('/content/sample_data/ratings_Electronics.csv', names=['user_id', 'prod_id', 'rating', 'timestamp'])\n",
        "df.drop('timestamp', axis=1, inplace=True)\n",
        "df.head()\n"
      ]
    },
    {
      "cell_type": "markdown",
      "metadata": {
        "lang": "pt",
        "id": "guyPDmmJNkyr"
      },
      "source": [
        "**Como este conjunto de dados é muito extenso, tendo 7 824 482 observações, não é computacionalmente possível criar um modelo com ele. Além disso, muitos usuários atribuíram nota apenas a alguns produtos, e alguns produtos tiveram notas atribuídas por pouquíssimos usuários. Logo, podemos reduzir o conjunto de dados considerando certas suposições lógicas.**\n",
        "\n",
        "Neste caso, consideraremos os usuários que atribuíram pelo menos 50 notas (ratings) e os produtos que têm pelo menos cinco notas (ratings) atribuídas, uma vez que, ao comprar on-line, preferimos ter um certo número de avaliações (notas) atribuídas a um produto."
      ]
    },
    {
      "cell_type": "code",
      "source": [
        "from google.colab import drive\n",
        "drive.mount('/content/drive')"
      ],
      "metadata": {
        "id": "X9SmF_X_IPDt"
      },
      "execution_count": null,
      "outputs": []
    },
    {
      "cell_type": "code",
      "execution_count": null,
      "metadata": {
        "id": "4yt9W7Q32EQQ"
      },
      "outputs": [],
      "source": [
        "# Get the column containing the users\n",
        "users = df.user_id\n",
        "\n",
        "# Create a dictionary from users to their number of ratings\n",
        "ratings_count = dict()\n",
        "\n",
        "for user in users:\n",
        "\n",
        "    # If we already have the user, just add 1 to their rating count\n",
        "    if user in ratings_count:\n",
        "        ratings_count[user] += 1\n",
        "\n",
        "    # Otherwise, set their rating count to 1\n",
        "    else:\n",
        "        ratings_count[user] = 1"
      ]
    },
    {
      "cell_type": "code",
      "execution_count": null,
      "metadata": {
        "id": "19XB60dq2EQR"
      },
      "outputs": [],
      "source": [
        "# We want our users to have at least 50 ratings to be considered\n",
        "RATINGS_CUTOFF = 50\n",
        "\n",
        "remove_users = []\n",
        "\n",
        "for user, num_ratings in ratings_count.items():\n",
        "    if num_ratings < RATINGS_CUTOFF:\n",
        "        remove_users.append(user)\n",
        "\n",
        "df = df.loc[ ~ df.user_id.isin(remove_users)]"
      ]
    },
    {
      "cell_type": "code",
      "execution_count": null,
      "metadata": {
        "id": "33UzK1D82EQS"
      },
      "outputs": [],
      "source": [
        "# Get the column containing the products\n",
        "prods = df.prod_id\n",
        "\n",
        "# Create a dictionary from products to their number of ratings\n",
        "ratings_count = dict()\n",
        "\n",
        "for prod in prods:\n",
        "\n",
        "    # If we already have the product, just add 1 to its rating count\n",
        "    if prod in ratings_count:\n",
        "        ratings_count[prod] += 1\n",
        "\n",
        "    # Otherwise, set their rating count to 1\n",
        "    else:\n",
        "        ratings_count[prod] = 1"
      ]
    },
    {
      "cell_type": "code",
      "execution_count": null,
      "metadata": {
        "id": "u6YE-lUp2EQT"
      },
      "outputs": [],
      "source": [
        "# We want our item to have at least 5 ratings to be considered\n",
        "RATINGS_CUTOFF = 5\n",
        "\n",
        "remove_users = []\n",
        "\n",
        "for user, num_ratings in ratings_count.items():\n",
        "    if num_ratings < RATINGS_CUTOFF:\n",
        "        remove_users.append(user)\n",
        "\n",
        "df_final = df.loc[~ df.prod_id.isin(remove_users)]"
      ]
    },
    {
      "cell_type": "code",
      "execution_count": null,
      "metadata": {
        "id": "aL1JZ00o5JtQ"
      },
      "outputs": [],
      "source": [
        "# Print a few rows of the imported dataset\n",
        "df_final.head()"
      ]
    },
    {
      "cell_type": "markdown",
      "metadata": {
        "lang": "pt",
        "id": "I7QhgTXrNkyt"
      },
      "source": [
        "## **Análise Exploratória dos Dados**"
      ]
    },
    {
      "cell_type": "markdown",
      "metadata": {
        "lang": "pt",
        "id": "mKG94TUTNkyt"
      },
      "source": [
        "### **Forma dos dados**"
      ]
    },
    {
      "cell_type": "markdown",
      "metadata": {
        "lang": "pt",
        "id": "HMfSHTQpNkyt"
      },
      "source": [
        "### **Verifique o número de linhas e colunas e forneça observações.**"
      ]
    },
    {
      "cell_type": "code",
      "source": [
        "\n",
        "print(\"O número de linhas inicial é:\", df.shape[0])\n",
        "print(\"O número de colunas inicial é:\", df.shape[1])\n",
        "print(\"O número de linhas final é:\", df_final.shape[0])\n",
        "print(\"O número de colunas final é:\", df_final.shape[1])"
      ],
      "metadata": {
        "colab": {
          "base_uri": "https://localhost:8080/"
        },
        "id": "qi1uCRoWWRrC",
        "outputId": "e5d139a4-beab-489a-941c-d0475383fd4a"
      },
      "execution_count": null,
      "outputs": [
        {
          "output_type": "stream",
          "name": "stdout",
          "text": [
            "O número de linhas inicial é: 125871\n",
            "O número de colunas inicial é: 3\n",
            "O número de linhas final é: 65290\n",
            "O número de colunas final é: 3\n"
          ]
        }
      ]
    },
    {
      "cell_type": "markdown",
      "metadata": {
        "lang": "pt",
        "id": "mOpI2q7FNkyu"
      },
      "source": [
        "**Escreva suas observações aqui:  **\n",
        "- Os dados de avaliação inicial contêm **125.871** observações e **3** colunas.\n",
        "- Os dados de avaliação final contêm **65.290** observações e **3** colunas.\n",
        "- Os dados foram filtrados para melhorar o custo computacional."
      ]
    },
    {
      "cell_type": "markdown",
      "metadata": {
        "lang": "pt",
        "id": "Ux9EnbKWNkyu"
      },
      "source": [
        "### **Tipos de dados**"
      ]
    },
    {
      "cell_type": "code",
      "source": [
        "df_final.info()"
      ],
      "metadata": {
        "colab": {
          "base_uri": "https://localhost:8080/"
        },
        "id": "X5KHQI6TXG8h",
        "outputId": "6e57284a-1617-4157-c95d-fe4029abf8d2"
      },
      "execution_count": null,
      "outputs": [
        {
          "output_type": "stream",
          "name": "stdout",
          "text": [
            "<class 'pandas.core.frame.DataFrame'>\n",
            "Int64Index: 65290 entries, 1310 to 7824427\n",
            "Data columns (total 3 columns):\n",
            " #   Column   Non-Null Count  Dtype  \n",
            "---  ------   --------------  -----  \n",
            " 0   user_id  65290 non-null  object \n",
            " 1   prod_id  65290 non-null  object \n",
            " 2   rating   65290 non-null  float64\n",
            "dtypes: float64(1), object(2)\n",
            "memory usage: 2.0+ MB\n"
          ]
        }
      ]
    },
    {
      "cell_type": "markdown",
      "metadata": {
        "lang": "pt",
        "id": "nfVskUOLNkyu"
      },
      "source": [
        "**Escreva suas observações aqui:**\n",
        "- As colunas **\"user_id\"** e **\"prod_id\"** são ambas do **tipo objeto**.\n",
        "- A coluna **\"rating\"** é do tipo **numérico** de dados."
      ]
    },
    {
      "cell_type": "markdown",
      "metadata": {
        "lang": "pt",
        "id": "hkdAtm6vNkyu"
      },
      "source": [
        "### **Verificação de valores ausentes**"
      ]
    },
    {
      "cell_type": "code",
      "execution_count": null,
      "metadata": {
        "id": "vt-VEjMA5JtQ",
        "colab": {
          "base_uri": "https://localhost:8080/"
        },
        "outputId": "8592fd15-f0c5-4f6c-9a44-841b00e7f7e6"
      },
      "outputs": [
        {
          "output_type": "execute_result",
          "data": {
            "text/plain": [
              "user_id    0\n",
              "prod_id    0\n",
              "rating     0\n",
              "dtype: int64"
            ]
          },
          "metadata": {},
          "execution_count": 12
        }
      ],
      "source": [
        "# Check for missing values present and provide observations\n",
        "df_final.isnull().sum()"
      ]
    },
    {
      "cell_type": "markdown",
      "metadata": {
        "lang": "pt",
        "id": "zDOLXizSNkyu"
      },
      "source": [
        "**Escreva suas observações aqui:**\n",
        "- Não há valores ausentes nos dados filtrados."
      ]
    },
    {
      "cell_type": "markdown",
      "metadata": {
        "lang": "pt",
        "id": "p_y7iQIzNkyu"
      },
      "source": [
        "### **Resumo das estatísticas**"
      ]
    },
    {
      "cell_type": "code",
      "execution_count": null,
      "metadata": {
        "id": "tYm30MXR5JtR",
        "colab": {
          "base_uri": "https://localhost:8080/"
        },
        "outputId": "720d567e-50cb-4109-f0fb-44802bb33f34"
      },
      "outputs": [
        {
          "output_type": "execute_result",
          "data": {
            "text/plain": [
              "count    125871.000000\n",
              "mean          4.261339\n",
              "std           1.062144\n",
              "min           1.000000\n",
              "25%           4.000000\n",
              "50%           5.000000\n",
              "75%           5.000000\n",
              "max           5.000000\n",
              "Name: rating, dtype: float64"
            ]
          },
          "metadata": {},
          "execution_count": 13
        }
      ],
      "source": [
        "# Summary statistics of 'rating' variable and provide observations\n",
        "df['rating'].describe()"
      ]
    },
    {
      "cell_type": "markdown",
      "metadata": {
        "lang": "pt",
        "id": "5nSE4Se9Nkyv"
      },
      "source": [
        "**Escreva suas observações aqui:**\n",
        "- **Contagem:** 125.871 avaliações.\n",
        "  \n",
        "- **Média:** Aproximadamente 4,26, indicando avaliações geralmente positivas.\n",
        "\n",
        "- **Desvio Padrão:** Cerca de 1,06, mostrando alguma variabilidade nas avaliações.\n",
        "\n",
        "- **Mínimo:** Avaliação mínima de 1, indicando diversidade de opiniões.\n",
        "\n",
        "- **25º Percentil:** 25% das avaliações são 4 ou menos.\n",
        "\n",
        "- **Mediana:** 5, indicando que metade das avaliações são 5 ou menos.\n",
        "\n",
        "- **75º Percentil:** 75% das avaliações são 5 ou menos.\n",
        "\n",
        "- **Máximo:** Avaliação máxima de 5, sugerindo que 5 é a avaliação mais comum.\n",
        "\n",
        "**Resumo:**\n",
        "O conjunto de dados reflete avaliações positivas (média de 4,26) com alguma variabilidade. A diversidade é evidente pelo mínimo de 1. A maioria das avaliações está no topo (mediana e 75º percentil)."
      ]
    },
    {
      "cell_type": "markdown",
      "metadata": {
        "lang": "pt",
        "id": "VF8pgVlkNkyv"
      },
      "source": [
        "### **Verificando a distribuição das notas atribuídas**"
      ]
    },
    {
      "cell_type": "code",
      "source": [
        "df['rating'].value_counts()"
      ],
      "metadata": {
        "colab": {
          "base_uri": "https://localhost:8080/"
        },
        "id": "9X_Pgpx6a6c7",
        "outputId": "382dddc9-3431-4ce7-9c38-b11b54d5226e"
      },
      "execution_count": null,
      "outputs": [
        {
          "output_type": "execute_result",
          "data": {
            "text/plain": [
              "5.0    71034\n",
              "4.0    32295\n",
              "3.0    12060\n",
              "2.0     5367\n",
              "1.0     5115\n",
              "Name: rating, dtype: int64"
            ]
          },
          "metadata": {},
          "execution_count": 14
        }
      ]
    },
    {
      "cell_type": "code",
      "source": [
        "# Create the bar plot of distribution of ratings and provide observations\n",
        "plt.figure(figsize=(12, 7))\n",
        "ax = sns.countplot(x=\"rating\", data=df)\n",
        "\n",
        "plt.tick_params(labelsize=10)\n",
        "plt.title(\"Distribution of Ratings\", fontsize=10)\n",
        "plt.xlabel(\"Ratings\", fontsize=10)\n",
        "plt.ylabel(\"Number of Ratings\", fontsize=10)\n",
        "\n",
        "# Adicionando o texto da contagem de ratings nas barras\n",
        "for p in ax.patches:\n",
        "    ax.annotate(f'{int(p.get_height())}', (p.get_x() + p.get_width() / 2., p.get_height()),\n",
        "                ha='center', va='center', xytext=(0, 10), textcoords='offset points', fontsize=12)\n",
        "\n",
        "plt.show()"
      ],
      "metadata": {
        "colab": {
          "base_uri": "https://localhost:8080/",
          "height": 487
        },
        "id": "46cxZXQna8pn",
        "outputId": "7676734b-d517-49da-e0d5-e0b3a23fba0c"
      },
      "execution_count": null,
      "outputs": [
        {
          "output_type": "display_data",
          "data": {
            "text/plain": [
              "<Figure size 1200x700 with 1 Axes>"
            ],
            "image/png": "[encoded data removed]"
          },
          "metadata": {}
        }
      ]
    },
    {
      "cell_type": "markdown",
      "metadata": {
        "lang": "pt",
        "id": "ITMqbRU8Nkyv"
      },
      "source": [
        "**Escreva suas observações aqui:**\n",
        "- Aqui esta a distribuição das avaliações:\n",
        "- **\"5\"**, com cerca de **70 mil** observações;\n",
        "- **\"4\"**, com  cerca de **30 mil** observações;\n",
        "- **\"3\"**, com cerca de **12 mil** observações;\n",
        "- **\"2\"**, com cerca de **5 mil** observações;\n",
        "- **\"1\"**, com cerca de **5 mil** observações."
      ]
    },
    {
      "cell_type": "markdown",
      "metadata": {
        "lang": "pt",
        "id": "Mqv2zSbtNkyv"
      },
      "source": [
        "### **Verificando o número de usuários e itens únicos no conjunto de dados**"
      ]
    },
    {
      "cell_type": "code",
      "execution_count": null,
      "metadata": {
        "id": "NbSom7195JtR",
        "colab": {
          "base_uri": "https://localhost:8080/"
        },
        "outputId": "8324d470-91ac-4369-bfaf-8350f732ac8e"
      },
      "outputs": [
        {
          "output_type": "execute_result",
          "data": {
            "text/plain": [
              "1540"
            ]
          },
          "metadata": {},
          "execution_count": 16
        }
      ],
      "source": [
        "# Number of total rows in the data and number of unique user id and product id in the data\n",
        "df['user_id'].nunique()"
      ]
    },
    {
      "cell_type": "code",
      "source": [
        "df['prod_id'].nunique()"
      ],
      "metadata": {
        "colab": {
          "base_uri": "https://localhost:8080/"
        },
        "id": "7ip9PpXTintU",
        "outputId": "c1f535c8-ed57-4a99-8968-b07235c29025"
      },
      "execution_count": null,
      "outputs": [
        {
          "output_type": "execute_result",
          "data": {
            "text/plain": [
              "48190"
            ]
          },
          "metadata": {},
          "execution_count": 17
        }
      ]
    },
    {
      "cell_type": "markdown",
      "metadata": {
        "lang": "pt",
        "id": "TNMPav9ANkyv"
      },
      "source": [
        "**Escreva suas observações aqui:**\n",
        "- Existem **1 540 usuários** no conjunto de dados.\n",
        "- Existem **48 190 produtos** no conjunto de dados."
      ]
    },
    {
      "cell_type": "markdown",
      "metadata": {
        "lang": "pt",
        "id": "t52ymVzDNkyw"
      },
      "source": [
        "### **Usuários com o maior número de notas atribuídas**"
      ]
    },
    {
      "cell_type": "code",
      "execution_count": null,
      "metadata": {
        "id": "n7MX452q5JtR",
        "colab": {
          "base_uri": "https://localhost:8080/"
        },
        "outputId": "c0a950e6-3606-46d7-b5ee-92f9ba9bcc55"
      },
      "outputs": [
        {
          "output_type": "execute_result",
          "data": {
            "text/plain": [
              "user_id\n",
              "A5JLAU2ARJ0BO     520\n",
              "ADLVFFE4VBT8      501\n",
              "A3OXHLG6DIBRW8    498\n",
              "A6FIAB28IS79      431\n",
              "A680RUE1FDO8B     406\n",
              "A1ODOGXEYECQQ8    380\n",
              "A36K2N527TXXJN    314\n",
              "A2AY4YUOX2N1BQ    311\n",
              "AWPODHOB4GFWL     308\n",
              "ARBKYIVNYWK3C     296\n",
              "Name: rating, dtype: int64"
            ]
          },
          "metadata": {},
          "execution_count": 18
        }
      ],
      "source": [
        "# Top 10 users based on the number of ratings\n",
        "df.groupby('user_id')['rating'].count().sort_values(ascending=False).head(10)"
      ]
    },
    {
      "cell_type": "markdown",
      "metadata": {
        "lang": "pt",
        "id": "RNv7KQ96Nkyw"
      },
      "source": [
        "**Escreva suas observações aqui:**\n",
        "- O usuário **A5JLAU2ARJ0BO** tem a maior quantidade de **avaliações**, **520** notas atribuídas."
      ]
    },
    {
      "cell_type": "markdown",
      "metadata": {
        "lang": "pt",
        "id": "EXfsY3vtNkyz"
      },
      "source": [
        "**Agora que exploramos e preparamos os dados, criaremos o primeiro sistema de recomendação.**"
      ]
    },
    {
      "cell_type": "markdown",
      "metadata": {
        "lang": "pt",
        "id": "6jwm7QuQNkyz"
      },
      "source": [
        "## **Modelo 1: Sistema de Recomendação Baseado em Classificação**"
      ]
    },
    {
      "cell_type": "code",
      "execution_count": null,
      "metadata": {
        "id": "yxZTj1UPxhXh",
        "scrolled": true,
        "colab": {
          "base_uri": "https://localhost:8080/"
        },
        "outputId": "f462cdc4-3ba4-432d-fc0e-7ed4f8fc6f20"
      },
      "outputs": [
        {
          "output_type": "stream",
          "name": "stdout",
          "text": [
            "Média das Avaliações:\n",
            "prod_id\n",
            "0594451647    5.000000\n",
            "0594481813    3.000000\n",
            "0970407998    2.500000\n",
            "0972683275    4.750000\n",
            "1400501466    3.333333\n",
            "                ...   \n",
            "B00LED02VY    4.000000\n",
            "B00LGN7Y3G    5.000000\n",
            "B00LGQ6HL8    5.000000\n",
            "B00LI4ZZO8    4.500000\n",
            "B00LKG1MC8    5.000000\n",
            "Name: rating, Length: 48190, dtype: float64\n",
            "\n",
            "Contagem de Avaliações:\n",
            "prod_id\n",
            "0594451647    1\n",
            "0594481813    1\n",
            "0970407998    2\n",
            "0972683275    4\n",
            "1400501466    6\n",
            "             ..\n",
            "B00LED02VY    1\n",
            "B00LGN7Y3G    1\n",
            "B00LGQ6HL8    5\n",
            "B00LI4ZZO8    2\n",
            "B00LKG1MC8    1\n",
            "Name: rating, Length: 48190, dtype: int64\n",
            "\n",
            "DataFrame de Avaliações Final:\n",
            "            média_avaliação  contagem_avaliações\n",
            "prod_id                                         \n",
            "0594451647         5.000000                    1\n",
            "0594481813         3.000000                    1\n",
            "0970407998         2.500000                    2\n",
            "0972683275         4.750000                    4\n",
            "1400501466         3.333333                    6\n",
            "...                     ...                  ...\n",
            "B00LED02VY         4.000000                    1\n",
            "B00LGN7Y3G         5.000000                    1\n",
            "B00LGQ6HL8         5.000000                    5\n",
            "B00LI4ZZO8         4.500000                    2\n",
            "B00LKG1MC8         5.000000                    1\n",
            "\n",
            "[48190 rows x 2 columns]\n",
            "\n",
            "DataFrame de Avaliações Final (Ordenado):\n",
            "            média_avaliação  contagem_avaliações\n",
            "prod_id                                         \n",
            "0594451647              5.0                    1\n",
            "B003RRY9RS              5.0                    1\n",
            "B003RR95Q8              5.0                    1\n",
            "B003RIPMZU              5.0                    1\n",
            "B003RFRNYQ              5.0                    2\n",
            "...                     ...                  ...\n",
            "B000IZ8GKS              1.0                    1\n",
            "B000C77B4O              1.0                    1\n",
            "B008EVTDFK              1.0                    1\n",
            "B000MUNSPM              1.0                    1\n",
            "B003CJTQJM              1.0                    1\n",
            "\n",
            "[48190 rows x 2 columns]\n",
            "            média_avaliação  contagem_avaliações\n",
            "prod_id                                         \n",
            "0594451647              5.0                    1\n",
            "B003RRY9RS              5.0                    1\n",
            "B003RR95Q8              5.0                    1\n",
            "B003RIPMZU              5.0                    1\n",
            "B003RFRNYQ              5.0                    2\n"
          ]
        }
      ],
      "source": [
        "# Calculate the average rating for each product\n",
        "average_ratings = df.groupby('prod_id')['rating'].mean()\n",
        "print(\"Média das Avaliações:\")\n",
        "print(average_ratings)\n",
        "\n",
        "# Calculate the count of ratings for each product\n",
        "rating_counts = df.groupby('prod_id')['rating'].count()\n",
        "print(\"\\nContagem de Avaliações:\")\n",
        "print(rating_counts)\n",
        "\n",
        "# Create a dataframe with calculated average and count of ratings\n",
        "final_rating = pd.DataFrame({'média_avaliação': average_ratings, 'contagem_avaliações': rating_counts})\n",
        "print(\"\\nDataFrame de Avaliações Final:\")\n",
        "print(final_rating)\n",
        "\n",
        "# Sort the dataframe by average of ratings in descending order\n",
        "final_rating = final_rating.sort_values(by='média_avaliação', ascending=False)\n",
        "print(\"\\nDataFrame de Avaliações Final (Ordenado):\")\n",
        "print(final_rating)\n",
        "\n",
        "# See the first five records of the \"final_rating\" dataset\n",
        "print(final_rating.head())"
      ]
    },
    {
      "cell_type": "code",
      "execution_count": null,
      "metadata": {
        "id": "zKU__5s1xhXi",
        "colab": {
          "base_uri": "https://localhost:8080/"
        },
        "outputId": "13ba4fdf-d479-4f0d-8419-7b1d053ae62b"
      },
      "outputs": [
        {
          "output_type": "stream",
          "name": "stdout",
          "text": [
            "Top 10 products based on highest average rating and at least 5 interactions:\n",
            "            average_rating  rating_count\n",
            "prod_id                                 \n",
            "B00LGQ6HL8             5.0             5\n",
            "B003DZJQQI             5.0            14\n",
            "B005FDXF2C             5.0             7\n",
            "B00I6CVPVC             5.0             7\n",
            "B00B9KOCYA             5.0             8\n",
            "B003CK10DG             5.0             5\n",
            "B003B41XYO             5.0             5\n",
            "B0007WK8KS             5.0             6\n",
            "B0084FM5JC             5.0             5\n",
            "B005GI2VMG             5.0            10\n"
          ]
        }
      ],
      "source": [
        "# Defining a function to get the top n products based on the highest average rating and minimum interactions\n",
        "def get_top_n_products(df, n, min_interactions=10):\n",
        "    # Calculate the average rating for each product\n",
        "    average_ratings = df.groupby('prod_id')['rating'].mean()\n",
        "\n",
        "    # Calculate the count of ratings for each product\n",
        "    rating_counts = df.groupby('prod_id')['rating'].count()\n",
        "\n",
        "    # Create a DataFrame with calculated average and count of ratings\n",
        "    final_rating = pd.DataFrame({'average_rating': average_ratings, 'rating_count': rating_counts})\n",
        "\n",
        "# Finding products with minimum number of interactions\n",
        "    # Filter products with at least min_interactions interactions\n",
        "    final_rating = final_rating[final_rating['rating_count'] >= min_interactions]\n",
        "# Sorting values with respect to average rating\n",
        "  # Sort the DataFrame by average rating in descending order\n",
        "    final_rating = final_rating.sort_values(by='average_rating', ascending=False)\n",
        "\n",
        "    # Get the top n products\n",
        "    top_n_products = final_rating.head(n)\n",
        "\n",
        "    return top_n_products\n",
        "\n",
        "# Example usage:\n",
        "top_n_products = get_top_n_products(df, n=10, min_interactions=5)\n",
        "print(\"Top 10 products based on highest average rating and at least 5 interactions:\")\n",
        "print(top_n_products)"
      ]
    },
    {
      "cell_type": "markdown",
      "metadata": {
        "lang": "pt",
        "id": "sc56i8A9Nky0"
      },
      "source": [
        "### **Recomendando os cinco principais produtos com, no mínimo, 50 interações com base na popularidade**"
      ]
    },
    {
      "cell_type": "code",
      "execution_count": null,
      "metadata": {
        "id": "dBxdLiM_xhXi",
        "colab": {
          "base_uri": "https://localhost:8080/"
        },
        "outputId": "24f073ff-f15e-4cd2-aeda-b5e542e76f28"
      },
      "outputs": [
        {
          "output_type": "stream",
          "name": "stdout",
          "text": [
            "            average_rating  rating_count\n",
            "prod_id                                 \n",
            "B001TH7GUU        4.871795            78\n",
            "B003ES5ZUU        4.864130           184\n",
            "B0019EHU8G        4.855556            90\n",
            "B006W8U2MU        4.824561            57\n",
            "B000QUUFRW        4.809524            84\n"
          ]
        }
      ],
      "source": [
        "# prompt: Recomendando os cinco principais produtos com, no mínimo, 50 interações com base na popularidade\n",
        "\n",
        "top_5_products_50_min = get_top_n_products(df, n=5, min_interactions=50)\n",
        "print(top_5_products_50_min)\n"
      ]
    },
    {
      "cell_type": "markdown",
      "metadata": {
        "lang": "pt",
        "id": "Zg1OUkPkNky1"
      },
      "source": [
        "### **Recomendando os cinco principais produtos com, no mínimo, 100 interações com base na popularidade**"
      ]
    },
    {
      "cell_type": "code",
      "execution_count": null,
      "metadata": {
        "id": "dZgGZCUoxhXj",
        "colab": {
          "base_uri": "https://localhost:8080/"
        },
        "outputId": "56f487f1-6e09-487e-fffc-42f259be79ab"
      },
      "outputs": [
        {
          "output_type": "stream",
          "name": "stdout",
          "text": [
            "            average_rating  rating_count\n",
            "prod_id                                 \n",
            "B003ES5ZUU        4.864130           184\n",
            "B000N99BBC        4.772455           167\n",
            "B002WE6D44        4.770000           100\n",
            "B007WTAJTO        4.701220           164\n",
            "B002V88HFE        4.698113           106\n"
          ]
        }
      ],
      "source": [
        "# prompt: Recomendando os cinco principais produtos com, no mínimo, 100 interações com base na popularidade\n",
        "\n",
        "top_5_products_100_min = get_top_n_products(df, n=5, min_interactions=100)\n",
        "print(top_5_products_100_min)\n"
      ]
    },
    {
      "cell_type": "markdown",
      "metadata": {
        "lang": "pt",
        "id": "Z3aJNkr6Nky1"
      },
      "source": [
        "Recomendamos os **cinco principais** produtos usando o sistema de recomendação de popularidade. Agora, criaremos um sistema de recomendação usando a **filtragem colaborativa.**"
      ]
    },
    {
      "cell_type": "markdown",
      "metadata": {
        "lang": "pt",
        "id": "Ag9_oj-oNky1"
      },
      "source": [
        "## **Modelo 2: Sistema de Recomendação de Filtragem Colaborativa**"
      ]
    },
    {
      "cell_type": "markdown",
      "metadata": {
        "lang": "pt",
        "id": "JQW3QssHNky1"
      },
      "source": [
        "### **Criando um sistema de recomendação de referência baseado em similaridade usuário-usuário**"
      ]
    },
    {
      "cell_type": "markdown",
      "metadata": {
        "lang": "pt",
        "id": "ZALvZ16wNky2"
      },
      "source": [
        "- Abaixo, estamos criando **sistemas de recomendação baseados em similaridade**, usando a similaridade `cosine` (cosseno), e utilizando o **KNN para encontrar usuários semelhantes**, que são os vizinhos mais próximos do usuário em questão.\n",
        "- Usaremos uma nova biblioteca, chamada `surprise`, para criar os demais modelos. Primeiro, importaremos as classes e funções necessárias dessa biblioteca."
      ]
    },
    {
      "cell_type": "code",
      "execution_count": null,
      "metadata": {
        "id": "UJ1wEylUpexj"
      },
      "outputs": [],
      "source": [
        "# To compute the accuracy of models\n",
        "from surprise import accuracy\n",
        "\n",
        "# Class is used to parse a file containing ratings, data should be in structure - user ; item ; rating\n",
        "from surprise.reader import Reader\n",
        "\n",
        "# Class for loading datasets\n",
        "from surprise.dataset import Dataset\n",
        "\n",
        "# For tuning model hyperparameters\n",
        "from surprise.model_selection import GridSearchCV\n",
        "\n",
        "# For splitting the rating data in train and test datasets\n",
        "from surprise.model_selection import train_test_split\n",
        "\n",
        "# For implementing similarity-based recommendation system\n",
        "from surprise.prediction_algorithms.knns import KNNBasic\n",
        "\n",
        "# For implementing matrix factorization based recommendation system\n",
        "from surprise.prediction_algorithms.matrix_factorization import SVD\n",
        "\n",
        "# for implementing K-Fold cross-validation\n",
        "from surprise.model_selection import KFold\n",
        "\n",
        "# For implementing clustering-based recommendation system\n",
        "from surprise import CoClustering"
      ]
    },
    {
      "cell_type": "markdown",
      "metadata": {
        "lang": "pt",
        "id": "2wkL3Ft6Nky2"
      },
      "source": [
        "**Antes de criarmos os sistemas de recomendação, revisaremos algumas terminologias básicas que usaremos:**"
      ]
    },
    {
      "cell_type": "markdown",
      "metadata": {
        "lang": "pt",
        "id": "DSF0EAZ6Nky2"
      },
      "source": [
        "**Item relevante:** um item (produto, neste caso) cuja **avaliação real é maior que a avaliação de referência (limite)** é considerado relevante. Se a **avaliação real estiver abaixo da referência, então o item é considerado não relevante**.\n",
        "\n",
        "**Item recomendado:** um item cuja **avaliação prevista é maior que a avaliação de referência é considerado um item recomendado**. Se a **avaliação prevista estiver abaixo da referência, tal produto não será recomendado ao usuário**."
      ]
    },
    {
      "cell_type": "markdown",
      "metadata": {
        "lang": "pt",
        "id": "TjiDYkJlNky2"
      },
      "source": [
        "**Falso negativo (FN):** é a **frequência de itens relevantes que não são recomendados ao usuário**. Se os itens relevantes não forem recomendados ao usuário, é possível que o usuário não compre o produto/item. Isso resultaria em **perda de oportunidade para o prestador do serviço**, algo que ele gostaria de minimizar.\n",
        "\n",
        "**Falso positivo (FP):** é a **frequência de itens recomendados que, na verdade, não são relevantes**. Nesse caso, o sistema de recomendação não está fazendo um bom trabalho no que diz respeito à localização e recomendação de itens relevantes para o usuário. Isso resultaria em **perda de recursos para o prestador do serviço**, algo que ele também gostaria de minimizar."
      ]
    },
    {
      "cell_type": "markdown",
      "metadata": {
        "lang": "pt",
        "id": "Ne8VU70DNky2"
      },
      "source": [
        "**Recall:** é a **fração de itens realmente relevantes que são recomendados ao usuário**. Por exemplo, se de dez produtos relevantes, seis são recomendados para o usuário, o recall é de 0.6. Quanto maior é o valor do recall, melhor é o modelo. É uma das métricas usadas para avaliar o desempenho dos modelos de classificação.\n",
        "\n",
        "**Precisão:** é a **fração de itens recomendados que são realmente relevantes**. Por exemplo, se de dez itens recomendados, seis são considerados relevantes pelo usuário, a precisão é de 0.6. Quanto maior é o valor da precisão, melhor é o modelo. É uma das métricas usadas para avaliar o desempenho dos modelos de classificação."
      ]
    },
    {
      "cell_type": "markdown",
      "metadata": {
        "lang": "pt",
        "id": "8YxEmfFMNky3"
      },
      "source": [
        "**Ao criar um sistema de recomendação, costuma-se observar o desempenho do modelo. Em termos de quantas recomendações são relevantes, e vice-versa, abaixo estão algumas das métricas de desempenho mais usadas na avaliação de sistemas de recomendação.**"
      ]
    },
    {
      "cell_type": "markdown",
      "metadata": {
        "lang": "pt",
        "id": "e4ygCx9PNky3"
      },
      "source": [
        "### **Precision@k, Recall@k e F1-score@k**"
      ]
    },
    {
      "cell_type": "markdown",
      "metadata": {
        "lang": "pt",
        "id": "jMr2LxWTNky3"
      },
      "source": [
        "**Precision@k**: é a **fração de itens recomendados que são relevantes nas `top k` (k principais) previsões**. O valor de k é o número de recomendações a serem fornecidas ao usuário. Pode-se escolher um número variável de recomendações a serem fornecidas a um único usuário.\n",
        "\n",
        "\n",
        "**Recall@k**: é a **fração de itens relevantes que são recomendados ao usuário nas `top k` (k principais) previsões**.\n",
        "\n",
        "**F1-score@k**: é a **média harmônica de Precision@k e Recall@k**. Quando **tanto precision@k quanto recall@k parecem ser importantes**, é útil usar essa métrica, pois é representativa de ambas."
      ]
    },
    {
      "cell_type": "markdown",
      "metadata": {
        "lang": "pt",
        "id": "bptci8ivNky3"
      },
      "source": [
        "### **Algumas funções úteis**"
      ]
    },
    {
      "cell_type": "markdown",
      "metadata": {
        "lang": "pt",
        "id": "TBdqt_g4Nky3"
      },
      "source": [
        "- A função abaixo recebe o **modelo de recomendação** como entrada e fornece **precision@k, recall@k e F1-score@k** para esse modelo.\n",
        "- Para calcular a **precisão** e o **recall**, as **k principais** previsões são consideradas para cada usuário.\n",
        "- Usaremos a precisão e o recall para calcular o F1-score."
      ]
    },
    {
      "cell_type": "code",
      "execution_count": null,
      "metadata": {
        "id": "Rxn-GahOTsnm"
      },
      "outputs": [],
      "source": [
        "def precision_recall_at_k(model, k = 10, threshold = 3.5):\n",
        "    \"\"\"Return precision and recall at k metrics for each user\"\"\"\n",
        "\n",
        "    # First map the predictions to each user\n",
        "    user_est_true = defaultdict(list)\n",
        "\n",
        "    # Making predictions on the test data\n",
        "    predictions = model.test(testset)\n",
        "\n",
        "    for uid, _, true_r, est, _ in predictions:\n",
        "        user_est_true[uid].append((est, true_r))\n",
        "\n",
        "    precisions = dict()\n",
        "    recalls = dict()\n",
        "    for uid, user_ratings in user_est_true.items():\n",
        "\n",
        "        # Sort user ratings by estimated value\n",
        "        user_ratings.sort(key = lambda x: x[0], reverse = True)\n",
        "\n",
        "        # Number of relevant items\n",
        "        n_rel = sum((true_r >= threshold) for (_, true_r) in user_ratings)\n",
        "\n",
        "        # Number of recommended items in top k\n",
        "        n_rec_k = sum((est >= threshold) for (est, _) in user_ratings[:k])\n",
        "\n",
        "        # Number of relevant and recommended items in top k\n",
        "        n_rel_and_rec_k = sum(((true_r >= threshold) and (est >= threshold))\n",
        "                              for (est, true_r) in user_ratings[:k])\n",
        "\n",
        "        # Precision@K: Proportion of recommended items that are relevant\n",
        "        # When n_rec_k is 0, Precision is undefined. Therefore, we are setting Precision to 0 when n_rec_k is 0\n",
        "\n",
        "        precisions[uid] = n_rel_and_rec_k / n_rec_k if n_rec_k != 0 else 0\n",
        "\n",
        "        # Recall@K: Proportion of relevant items that are recommended\n",
        "        # When n_rel is 0, Recall is undefined. Therefore, we are setting Recall to 0 when n_rel is 0\n",
        "\n",
        "        recalls[uid] = n_rel_and_rec_k / n_rel if n_rel != 0 else 0\n",
        "\n",
        "    # Mean of all the predicted precisions are calculated.\n",
        "    precision = round((sum(prec for prec in precisions.values()) / len(precisions)), 3)\n",
        "\n",
        "    # Mean of all the predicted recalls are calculated.\n",
        "    recall = round((sum(rec for rec in recalls.values()) / len(recalls)), 3)\n",
        "\n",
        "    accuracy.rmse(predictions)\n",
        "\n",
        "    print('Precision: ', precision) # Command to print the overall precision\n",
        "\n",
        "    print('Recall: ', recall) # Command to print the overall recall\n",
        "\n",
        "    print('F_1 score: ', round((2*precision*recall)/(precision+recall), 3)) # Formula to compute the F-1 score"
      ]
    },
    {
      "cell_type": "markdown",
      "metadata": {
        "lang": "pt",
        "id": "CrB7eT8GNky3"
      },
      "source": [
        "**Dicas:**\n",
        "\n",
        "- Para calcular a **precisão** e o **recall**, uma **referência de 3.5 e um valor de k igual a 10 podem ser considerados para as avaliações recomendadas e relevantes**.\n",
        "- Pense na métrica de desempenho a ser escolhida."
      ]
    },
    {
      "cell_type": "markdown",
      "metadata": {
        "lang": "pt",
        "id": "3iNXMP65Nky4"
      },
      "source": [
        "Abaixo, estamos carregando o **conjunto de dados de** **`rating`**, que é um **DataFrame do pandas**, em um **formato diferente chamado `surprise.dataset.DatasetAutoFolds`**, que é exigido por essa biblioteca. Para isso, **utilizaremos as classes `Reader` e `Dataset`.**"
      ]
    },
    {
      "cell_type": "code",
      "source": [
        "from sklearn.preprocessing import LabelEncoder\n",
        "data=df[['user_id','prod_id']].apply(LabelEncoder().fit_transform)\n",
        "data['rating']=df['rating']\n",
        "data.head()"
      ],
      "metadata": {
        "colab": {
          "base_uri": "https://localhost:8080/",
          "height": 206
        },
        "id": "fb3I7yyqook1",
        "outputId": "b36071ca-38e3-42e4-9f76-05d0584ae3f6"
      },
      "execution_count": null,
      "outputs": [
        {
          "output_type": "execute_result",
          "data": {
            "text/plain": [
              "     user_id  prod_id  rating\n",
              "94       942        0     5.0\n",
              "118     1461        1     3.0\n",
              "177      850        2     1.0\n",
              "178       82        2     4.0\n",
              "492      950        3     5.0"
            ],
            "text/html": [
              "\n",
              "  <div id=\"df-5c02d948-e1fe-4250-9589-86322d839e15\" class=\"colab-df-container\">\n",
              "    <div>\n",
              "<style scoped>\n",
              "    .dataframe tbody tr th:only-of-type {\n",
              "        vertical-align: middle;\n",
              "    }\n",
              "\n",
              "    .dataframe tbody tr th {\n",
              "        vertical-align: top;\n",
              "    }\n",
              "\n",
              "    .dataframe thead th {\n",
              "        text-align: right;\n",
              "    }\n",
              "</style>\n",
              "<table border=\"1\" class=\"dataframe\">\n",
              "  <thead>\n",
              "    <tr style=\"text-align: right;\">\n",
              "      <th></th>\n",
              "      <th>user_id</th>\n",
              "      <th>prod_id</th>\n",
              "      <th>rating</th>\n",
              "    </tr>\n",
              "  </thead>\n",
              "  <tbody>\n",
              "    <tr>\n",
              "      <th>94</th>\n",
              "      <td>942</td>\n",
              "      <td>0</td>\n",
              "      <td>5.0</td>\n",
              "    </tr>\n",
              "    <tr>\n",
              "      <th>118</th>\n",
              "      <td>1461</td>\n",
              "      <td>1</td>\n",
              "      <td>3.0</td>\n",
              "    </tr>\n",
              "    <tr>\n",
              "      <th>177</th>\n",
              "      <td>850</td>\n",
              "      <td>2</td>\n",
              "      <td>1.0</td>\n",
              "    </tr>\n",
              "    <tr>\n",
              "      <th>178</th>\n",
              "      <td>82</td>\n",
              "      <td>2</td>\n",
              "      <td>4.0</td>\n",
              "    </tr>\n",
              "    <tr>\n",
              "      <th>492</th>\n",
              "      <td>950</td>\n",
              "      <td>3</td>\n",
              "      <td>5.0</td>\n",
              "    </tr>\n",
              "  </tbody>\n",
              "</table>\n",
              "</div>\n",
              "    <div class=\"colab-df-buttons\">\n",
              "\n",
              "  <div class=\"colab-df-container\">\n",
              "    <button class=\"colab-df-convert\" onclick=\"convertToInteractive('df-5c02d948-e1fe-4250-9589-86322d839e15')\"\n",
              "            title=\"Convert this dataframe to an interactive table.\"\n",
              "            style=\"display:none;\">\n",
              "\n",
              "  <svg xmlns=\"http://www.w3.org/2000/svg\" height=\"24px\" viewBox=\"0 -960 960 960\">\n",
              "    <path d=\"M120-120v-720h720v720H120Zm60-500h600v-160H180v160Zm220 220h160v-160H400v160Zm0 220h160v-160H400v160ZM180-400h160v-160H180v160Zm440 0h160v-160H620v160ZM180-180h160v-160H180v160Zm440 0h160v-160H620v160Z\"/>\n",
              "  </svg>\n",
              "    </button>\n",
              "\n",
              "  <style>\n",
              "    .colab-df-container {\n",
              "      display:flex;\n",
              "      gap: 12px;\n",
              "    }\n",
              "\n",
              "    .colab-df-convert {\n",
              "      background-color: #E8F0FE;\n",
              "      border: none;\n",
              "      border-radius: 50%;\n",
              "      cursor: pointer;\n",
              "      display: none;\n",
              "      fill: #1967D2;\n",
              "      height: 32px;\n",
              "      padding: 0 0 0 0;\n",
              "      width: 32px;\n",
              "    }\n",
              "\n",
              "    .colab-df-convert:hover {\n",
              "      background-color: #E2EBFA;\n",
              "      box-shadow: 0px 1px 2px rgba(60, 64, 67, 0.3), 0px 1px 3px 1px rgba(60, 64, 67, 0.15);\n",
              "      fill: #174EA6;\n",
              "    }\n",
              "\n",
              "    .colab-df-buttons div {\n",
              "      margin-bottom: 4px;\n",
              "    }\n",
              "\n",
              "    [theme=dark] .colab-df-convert {\n",
              "      background-color: #3B4455;\n",
              "      fill: #D2E3FC;\n",
              "    }\n",
              "\n",
              "    [theme=dark] .colab-df-convert:hover {\n",
              "      background-color: #434B5C;\n",
              "      box-shadow: 0px 1px 3px 1px rgba(0, 0, 0, 0.15);\n",
              "      filter: drop-shadow(0px 1px 2px rgba(0, 0, 0, 0.3));\n",
              "      fill: #FFFFFF;\n",
              "    }\n",
              "  </style>\n",
              "\n",
              "    <script>\n",
              "      const buttonEl =\n",
              "        document.querySelector('#df-5c02d948-e1fe-4250-9589-86322d839e15 button.colab-df-convert');\n",
              "      buttonEl.style.display =\n",
              "        google.colab.kernel.accessAllowed ? 'block' : 'none';\n",
              "\n",
              "      async function convertToInteractive(key) {\n",
              "        const element = document.querySelector('#df-5c02d948-e1fe-4250-9589-86322d839e15');\n",
              "        const dataTable =\n",
              "          await google.colab.kernel.invokeFunction('convertToInteractive',\n",
              "                                                    [key], {});\n",
              "        if (!dataTable) return;\n",
              "\n",
              "        const docLinkHtml = 'Like what you see? Visit the ' +\n",
              "          '<a target=\"_blank\" href=https://colab.research.google.com/notebooks/data_table.ipynb>data table notebook</a>'\n",
              "          + ' to learn more about interactive tables.';\n",
              "        element.innerHTML = '';\n",
              "        dataTable['output_type'] = 'display_data';\n",
              "        await google.colab.output.renderOutput(dataTable, element);\n",
              "        const docLink = document.createElement('div');\n",
              "        docLink.innerHTML = docLinkHtml;\n",
              "        element.appendChild(docLink);\n",
              "      }\n",
              "    </script>\n",
              "  </div>\n",
              "\n",
              "\n",
              "<div id=\"df-c0cdad99-6fad-4751-a106-478b4a1fa5f8\">\n",
              "  <button class=\"colab-df-quickchart\" onclick=\"quickchart('df-c0cdad99-6fad-4751-a106-478b4a1fa5f8')\"\n",
              "            title=\"Suggest charts\"\n",
              "            style=\"display:none;\">\n",
              "\n",
              "<svg xmlns=\"http://www.w3.org/2000/svg\" height=\"24px\"viewBox=\"0 0 24 24\"\n",
              "     width=\"24px\">\n",
              "    <g>\n",
              "        <path d=\"M19 3H5c-1.1 0-2 .9-2 2v14c0 1.1.9 2 2 2h14c1.1 0 2-.9 2-2V5c0-1.1-.9-2-2-2zM9 17H7v-7h2v7zm4 0h-2V7h2v10zm4 0h-2v-4h2v4z\"/>\n",
              "    </g>\n",
              "</svg>\n",
              "  </button>\n",
              "\n",
              "<style>\n",
              "  .colab-df-quickchart {\n",
              "      --bg-color: #E8F0FE;\n",
              "      --fill-color: #1967D2;\n",
              "      --hover-bg-color: #E2EBFA;\n",
              "      --hover-fill-color: #174EA6;\n",
              "      --disabled-fill-color: #AAA;\n",
              "      --disabled-bg-color: #DDD;\n",
              "  }\n",
              "\n",
              "  [theme=dark] .colab-df-quickchart {\n",
              "      --bg-color: #3B4455;\n",
              "      --fill-color: #D2E3FC;\n",
              "      --hover-bg-color: #434B5C;\n",
              "      --hover-fill-color: #FFFFFF;\n",
              "      --disabled-bg-color: #3B4455;\n",
              "      --disabled-fill-color: #666;\n",
              "  }\n",
              "\n",
              "  .colab-df-quickchart {\n",
              "    background-color: var(--bg-color);\n",
              "    border: none;\n",
              "    border-radius: 50%;\n",
              "    cursor: pointer;\n",
              "    display: none;\n",
              "    fill: var(--fill-color);\n",
              "    height: 32px;\n",
              "    padding: 0;\n",
              "    width: 32px;\n",
              "  }\n",
              "\n",
              "  .colab-df-quickchart:hover {\n",
              "    background-color: var(--hover-bg-color);\n",
              "    box-shadow: 0 1px 2px rgba(60, 64, 67, 0.3), 0 1px 3px 1px rgba(60, 64, 67, 0.15);\n",
              "    fill: var(--button-hover-fill-color);\n",
              "  }\n",
              "\n",
              "  .colab-df-quickchart-complete:disabled,\n",
              "  .colab-df-quickchart-complete:disabled:hover {\n",
              "    background-color: var(--disabled-bg-color);\n",
              "    fill: var(--disabled-fill-color);\n",
              "    box-shadow: none;\n",
              "  }\n",
              "\n",
              "  .colab-df-spinner {\n",
              "    border: 2px solid var(--fill-color);\n",
              "    border-color: transparent;\n",
              "    border-bottom-color: var(--fill-color);\n",
              "    animation:\n",
              "      spin 1s steps(1) infinite;\n",
              "  }\n",
              "\n",
              "  @keyframes spin {\n",
              "    0% {\n",
              "      border-color: transparent;\n",
              "      border-bottom-color: var(--fill-color);\n",
              "      border-left-color: var(--fill-color);\n",
              "    }\n",
              "    20% {\n",
              "      border-color: transparent;\n",
              "      border-left-color: var(--fill-color);\n",
              "      border-top-color: var(--fill-color);\n",
              "    }\n",
              "    30% {\n",
              "      border-color: transparent;\n",
              "      border-left-color: var(--fill-color);\n",
              "      border-top-color: var(--fill-color);\n",
              "      border-right-color: var(--fill-color);\n",
              "    }\n",
              "    40% {\n",
              "      border-color: transparent;\n",
              "      border-right-color: var(--fill-color);\n",
              "      border-top-color: var(--fill-color);\n",
              "    }\n",
              "    60% {\n",
              "      border-color: transparent;\n",
              "      border-right-color: var(--fill-color);\n",
              "    }\n",
              "    80% {\n",
              "      border-color: transparent;\n",
              "      border-right-color: var(--fill-color);\n",
              "      border-bottom-color: var(--fill-color);\n",
              "    }\n",
              "    90% {\n",
              "      border-color: transparent;\n",
              "      border-bottom-color: var(--fill-color);\n",
              "    }\n",
              "  }\n",
              "</style>\n",
              "\n",
              "  <script>\n",
              "    async function quickchart(key) {\n",
              "      const quickchartButtonEl =\n",
              "        document.querySelector('#' + key + ' button');\n",
              "      quickchartButtonEl.disabled = true;  // To prevent multiple clicks.\n",
              "      quickchartButtonEl.classList.add('colab-df-spinner');\n",
              "      try {\n",
              "        const charts = await google.colab.kernel.invokeFunction(\n",
              "            'suggestCharts', [key], {});\n",
              "      } catch (error) {\n",
              "        console.error('Error during call to suggestCharts:', error);\n",
              "      }\n",
              "      quickchartButtonEl.classList.remove('colab-df-spinner');\n",
              "      quickchartButtonEl.classList.add('colab-df-quickchart-complete');\n",
              "    }\n",
              "    (() => {\n",
              "      let quickchartButtonEl =\n",
              "        document.querySelector('#df-c0cdad99-6fad-4751-a106-478b4a1fa5f8 button');\n",
              "      quickchartButtonEl.style.display =\n",
              "        google.colab.kernel.accessAllowed ? 'block' : 'none';\n",
              "    })();\n",
              "  </script>\n",
              "</div>\n",
              "\n",
              "    </div>\n",
              "  </div>\n"
            ]
          },
          "metadata": {},
          "execution_count": 25
        }
      ]
    },
    {
      "cell_type": "code",
      "source": [
        "df_rating = data.copy()"
      ],
      "metadata": {
        "id": "BLI7GVTPI5aV"
      },
      "execution_count": null,
      "outputs": []
    },
    {
      "cell_type": "code",
      "source": [
        "# Calculating average ratings\n",
        "average_rating = data.groupby('prod_id').mean()['rating']\n",
        "\n",
        "# Calculating the count of ratings\n",
        "count_rating = data.groupby('prod_id').count()['rating']\n",
        "\n",
        "# Updating the final_rating dataframe with the new encoded book_id count and average of ratings based on the new dataframe\n",
        "final_rating = pd.DataFrame({'avg_rating':average_rating, 'rating_count':count_rating})\n",
        "final_rating.head()"
      ],
      "metadata": {
        "colab": {
          "base_uri": "https://localhost:8080/",
          "height": 238
        },
        "id": "RyfOKSnYI8J6",
        "outputId": "7057522d-2f56-4e03-d768-98d8837ab093"
      },
      "execution_count": null,
      "outputs": [
        {
          "output_type": "execute_result",
          "data": {
            "text/plain": [
              "         avg_rating  rating_count\n",
              "prod_id                          \n",
              "0          5.000000             1\n",
              "1          3.000000             1\n",
              "2          2.500000             2\n",
              "3          4.750000             4\n",
              "4          3.333333             6"
            ],
            "text/html": [
              "\n",
              "  <div id=\"df-01781733-2e07-4bcb-93f9-6531959abfd4\" class=\"colab-df-container\">\n",
              "    <div>\n",
              "<style scoped>\n",
              "    .dataframe tbody tr th:only-of-type {\n",
              "        vertical-align: middle;\n",
              "    }\n",
              "\n",
              "    .dataframe tbody tr th {\n",
              "        vertical-align: top;\n",
              "    }\n",
              "\n",
              "    .dataframe thead th {\n",
              "        text-align: right;\n",
              "    }\n",
              "</style>\n",
              "<table border=\"1\" class=\"dataframe\">\n",
              "  <thead>\n",
              "    <tr style=\"text-align: right;\">\n",
              "      <th></th>\n",
              "      <th>avg_rating</th>\n",
              "      <th>rating_count</th>\n",
              "    </tr>\n",
              "    <tr>\n",
              "      <th>prod_id</th>\n",
              "      <th></th>\n",
              "      <th></th>\n",
              "    </tr>\n",
              "  </thead>\n",
              "  <tbody>\n",
              "    <tr>\n",
              "      <th>0</th>\n",
              "      <td>5.000000</td>\n",
              "      <td>1</td>\n",
              "    </tr>\n",
              "    <tr>\n",
              "      <th>1</th>\n",
              "      <td>3.000000</td>\n",
              "      <td>1</td>\n",
              "    </tr>\n",
              "    <tr>\n",
              "      <th>2</th>\n",
              "      <td>2.500000</td>\n",
              "      <td>2</td>\n",
              "    </tr>\n",
              "    <tr>\n",
              "      <th>3</th>\n",
              "      <td>4.750000</td>\n",
              "      <td>4</td>\n",
              "    </tr>\n",
              "    <tr>\n",
              "      <th>4</th>\n",
              "      <td>3.333333</td>\n",
              "      <td>6</td>\n",
              "    </tr>\n",
              "  </tbody>\n",
              "</table>\n",
              "</div>\n",
              "    <div class=\"colab-df-buttons\">\n",
              "\n",
              "  <div class=\"colab-df-container\">\n",
              "    <button class=\"colab-df-convert\" onclick=\"convertToInteractive('df-01781733-2e07-4bcb-93f9-6531959abfd4')\"\n",
              "            title=\"Convert this dataframe to an interactive table.\"\n",
              "            style=\"display:none;\">\n",
              "\n",
              "  <svg xmlns=\"http://www.w3.org/2000/svg\" height=\"24px\" viewBox=\"0 -960 960 960\">\n",
              "    <path d=\"M120-120v-720h720v720H120Zm60-500h600v-160H180v160Zm220 220h160v-160H400v160Zm0 220h160v-160H400v160ZM180-400h160v-160H180v160Zm440 0h160v-160H620v160ZM180-180h160v-160H180v160Zm440 0h160v-160H620v160Z\"/>\n",
              "  </svg>\n",
              "    </button>\n",
              "\n",
              "  <style>\n",
              "    .colab-df-container {\n",
              "      display:flex;\n",
              "      gap: 12px;\n",
              "    }\n",
              "\n",
              "    .colab-df-convert {\n",
              "      background-color: #E8F0FE;\n",
              "      border: none;\n",
              "      border-radius: 50%;\n",
              "      cursor: pointer;\n",
              "      display: none;\n",
              "      fill: #1967D2;\n",
              "      height: 32px;\n",
              "      padding: 0 0 0 0;\n",
              "      width: 32px;\n",
              "    }\n",
              "\n",
              "    .colab-df-convert:hover {\n",
              "      background-color: #E2EBFA;\n",
              "      box-shadow: 0px 1px 2px rgba(60, 64, 67, 0.3), 0px 1px 3px 1px rgba(60, 64, 67, 0.15);\n",
              "      fill: #174EA6;\n",
              "    }\n",
              "\n",
              "    .colab-df-buttons div {\n",
              "      margin-bottom: 4px;\n",
              "    }\n",
              "\n",
              "    [theme=dark] .colab-df-convert {\n",
              "      background-color: #3B4455;\n",
              "      fill: #D2E3FC;\n",
              "    }\n",
              "\n",
              "    [theme=dark] .colab-df-convert:hover {\n",
              "      background-color: #434B5C;\n",
              "      box-shadow: 0px 1px 3px 1px rgba(0, 0, 0, 0.15);\n",
              "      filter: drop-shadow(0px 1px 2px rgba(0, 0, 0, 0.3));\n",
              "      fill: #FFFFFF;\n",
              "    }\n",
              "  </style>\n",
              "\n",
              "    <script>\n",
              "      const buttonEl =\n",
              "        document.querySelector('#df-01781733-2e07-4bcb-93f9-6531959abfd4 button.colab-df-convert');\n",
              "      buttonEl.style.display =\n",
              "        google.colab.kernel.accessAllowed ? 'block' : 'none';\n",
              "\n",
              "      async function convertToInteractive(key) {\n",
              "        const element = document.querySelector('#df-01781733-2e07-4bcb-93f9-6531959abfd4');\n",
              "        const dataTable =\n",
              "          await google.colab.kernel.invokeFunction('convertToInteractive',\n",
              "                                                    [key], {});\n",
              "        if (!dataTable) return;\n",
              "\n",
              "        const docLinkHtml = 'Like what you see? Visit the ' +\n",
              "          '<a target=\"_blank\" href=https://colab.research.google.com/notebooks/data_table.ipynb>data table notebook</a>'\n",
              "          + ' to learn more about interactive tables.';\n",
              "        element.innerHTML = '';\n",
              "        dataTable['output_type'] = 'display_data';\n",
              "        await google.colab.output.renderOutput(dataTable, element);\n",
              "        const docLink = document.createElement('div');\n",
              "        docLink.innerHTML = docLinkHtml;\n",
              "        element.appendChild(docLink);\n",
              "      }\n",
              "    </script>\n",
              "  </div>\n",
              "\n",
              "\n",
              "<div id=\"df-014c3a36-e7e3-438c-b7dd-4c71d54f2ef6\">\n",
              "  <button class=\"colab-df-quickchart\" onclick=\"quickchart('df-014c3a36-e7e3-438c-b7dd-4c71d54f2ef6')\"\n",
              "            title=\"Suggest charts\"\n",
              "            style=\"display:none;\">\n",
              "\n",
              "<svg xmlns=\"http://www.w3.org/2000/svg\" height=\"24px\"viewBox=\"0 0 24 24\"\n",
              "     width=\"24px\">\n",
              "    <g>\n",
              "        <path d=\"M19 3H5c-1.1 0-2 .9-2 2v14c0 1.1.9 2 2 2h14c1.1 0 2-.9 2-2V5c0-1.1-.9-2-2-2zM9 17H7v-7h2v7zm4 0h-2V7h2v10zm4 0h-2v-4h2v4z\"/>\n",
              "    </g>\n",
              "</svg>\n",
              "  </button>\n",
              "\n",
              "<style>\n",
              "  .colab-df-quickchart {\n",
              "      --bg-color: #E8F0FE;\n",
              "      --fill-color: #1967D2;\n",
              "      --hover-bg-color: #E2EBFA;\n",
              "      --hover-fill-color: #174EA6;\n",
              "      --disabled-fill-color: #AAA;\n",
              "      --disabled-bg-color: #DDD;\n",
              "  }\n",
              "\n",
              "  [theme=dark] .colab-df-quickchart {\n",
              "      --bg-color: #3B4455;\n",
              "      --fill-color: #D2E3FC;\n",
              "      --hover-bg-color: #434B5C;\n",
              "      --hover-fill-color: #FFFFFF;\n",
              "      --disabled-bg-color: #3B4455;\n",
              "      --disabled-fill-color: #666;\n",
              "  }\n",
              "\n",
              "  .colab-df-quickchart {\n",
              "    background-color: var(--bg-color);\n",
              "    border: none;\n",
              "    border-radius: 50%;\n",
              "    cursor: pointer;\n",
              "    display: none;\n",
              "    fill: var(--fill-color);\n",
              "    height: 32px;\n",
              "    padding: 0;\n",
              "    width: 32px;\n",
              "  }\n",
              "\n",
              "  .colab-df-quickchart:hover {\n",
              "    background-color: var(--hover-bg-color);\n",
              "    box-shadow: 0 1px 2px rgba(60, 64, 67, 0.3), 0 1px 3px 1px rgba(60, 64, 67, 0.15);\n",
              "    fill: var(--button-hover-fill-color);\n",
              "  }\n",
              "\n",
              "  .colab-df-quickchart-complete:disabled,\n",
              "  .colab-df-quickchart-complete:disabled:hover {\n",
              "    background-color: var(--disabled-bg-color);\n",
              "    fill: var(--disabled-fill-color);\n",
              "    box-shadow: none;\n",
              "  }\n",
              "\n",
              "  .colab-df-spinner {\n",
              "    border: 2px solid var(--fill-color);\n",
              "    border-color: transparent;\n",
              "    border-bottom-color: var(--fill-color);\n",
              "    animation:\n",
              "      spin 1s steps(1) infinite;\n",
              "  }\n",
              "\n",
              "  @keyframes spin {\n",
              "    0% {\n",
              "      border-color: transparent;\n",
              "      border-bottom-color: var(--fill-color);\n",
              "      border-left-color: var(--fill-color);\n",
              "    }\n",
              "    20% {\n",
              "      border-color: transparent;\n",
              "      border-left-color: var(--fill-color);\n",
              "      border-top-color: var(--fill-color);\n",
              "    }\n",
              "    30% {\n",
              "      border-color: transparent;\n",
              "      border-left-color: var(--fill-color);\n",
              "      border-top-color: var(--fill-color);\n",
              "      border-right-color: var(--fill-color);\n",
              "    }\n",
              "    40% {\n",
              "      border-color: transparent;\n",
              "      border-right-color: var(--fill-color);\n",
              "      border-top-color: var(--fill-color);\n",
              "    }\n",
              "    60% {\n",
              "      border-color: transparent;\n",
              "      border-right-color: var(--fill-color);\n",
              "    }\n",
              "    80% {\n",
              "      border-color: transparent;\n",
              "      border-right-color: var(--fill-color);\n",
              "      border-bottom-color: var(--fill-color);\n",
              "    }\n",
              "    90% {\n",
              "      border-color: transparent;\n",
              "      border-bottom-color: var(--fill-color);\n",
              "    }\n",
              "  }\n",
              "</style>\n",
              "\n",
              "  <script>\n",
              "    async function quickchart(key) {\n",
              "      const quickchartButtonEl =\n",
              "        document.querySelector('#' + key + ' button');\n",
              "      quickchartButtonEl.disabled = true;  // To prevent multiple clicks.\n",
              "      quickchartButtonEl.classList.add('colab-df-spinner');\n",
              "      try {\n",
              "        const charts = await google.colab.kernel.invokeFunction(\n",
              "            'suggestCharts', [key], {});\n",
              "      } catch (error) {\n",
              "        console.error('Error during call to suggestCharts:', error);\n",
              "      }\n",
              "      quickchartButtonEl.classList.remove('colab-df-spinner');\n",
              "      quickchartButtonEl.classList.add('colab-df-quickchart-complete');\n",
              "    }\n",
              "    (() => {\n",
              "      let quickchartButtonEl =\n",
              "        document.querySelector('#df-014c3a36-e7e3-438c-b7dd-4c71d54f2ef6 button');\n",
              "      quickchartButtonEl.style.display =\n",
              "        google.colab.kernel.accessAllowed ? 'block' : 'none';\n",
              "    })();\n",
              "  </script>\n",
              "</div>\n",
              "\n",
              "    </div>\n",
              "  </div>\n"
            ]
          },
          "metadata": {},
          "execution_count": 27
        }
      ]
    },
    {
      "cell_type": "code",
      "execution_count": null,
      "metadata": {
        "id": "rGfYDiOCpe4X"
      },
      "outputs": [],
      "source": [
        "# Instantiating Reader scale with expected rating scale\n",
        "reader = Reader(rating_scale=(1, 10))\n",
        "\n",
        "# Loading the rating dataset\n",
        "data = Dataset.load_from_df(data[['user_id', 'prod_id', 'rating']], reader)\n",
        "\n",
        "# Splitting the data into train and test dataset\n",
        "trainset, testset = train_test_split(data, test_size=0.2, random_state=42)"
      ]
    },
    {
      "cell_type": "markdown",
      "metadata": {
        "lang": "pt",
        "id": "lHq2L8heNky4"
      },
      "source": [
        "Agora, estamos **prontos para criar o primeiro sistema de recomendação de referência baseado em similaridade** usando a similaridade de cosseno."
      ]
    },
    {
      "cell_type": "markdown",
      "metadata": {
        "lang": "pt",
        "id": "kyYOsOo2Nky4"
      },
      "source": [
        "### **Criando o Sistema de Recomendação Baseado em Similaridade Usuário-Usuário**"
      ]
    },
    {
      "cell_type": "code",
      "execution_count": null,
      "metadata": {
        "id": "vO3FL7iape8A",
        "scrolled": false,
        "colab": {
          "base_uri": "https://localhost:8080/"
        },
        "outputId": "b72044f1-7f47-4aac-f338-e027f9d3226f"
      },
      "outputs": [
        {
          "output_type": "stream",
          "name": "stdout",
          "text": [
            "RMSE: 1.1067\n",
            "Precision:  0.847\n",
            "Recall:  0.718\n",
            "F_1 score:  0.777\n"
          ]
        }
      ],
      "source": [
        "# Declaring the similarity options\n",
        "sim_options = {'name': 'cosine',\n",
        "               'user_based': True}\n",
        "\n",
        "# Initialize the KNNBasic model using sim_options declared, Verbose = False, and setting random_state = 1\n",
        "algo_knn_user = KNNBasic(sim_options=sim_options,verbose=False)\n",
        "\n",
        "# Fit the model on the training data\n",
        "algo_knn_user.fit(trainset)\n",
        "\n",
        "# Let us compute precision@k, recall@k, and f_1 score using the precision_recall_at_k function defined above\n",
        "precision_recall_at_k(algo_knn_user)"
      ]
    },
    {
      "cell_type": "markdown",
      "metadata": {
        "lang": "pt",
        "id": "H5rPhU06Nky4"
      },
      "source": [
        "**Escreva suas observações aqui:**\n",
        "\n",
        "- Ao analisarmos o desempenho do modelo de referência, observamos que possui um **`RMSE`** de **1.1067** no conjunto de teste.\n",
        "- Na interpretação do `recall`, constatamos um valor de aproximadamente *0.718*, o que significa que **de todos os produtos relevantes, 71.8% são recomendados**.\n",
        "- Em relação à `precisão`, verificamos um valor de aproximadamente *0.847*, indicando que **de todos os produtos recomendados, 84.7% são relevantes**.\n",
        "- A `F_1 score` do modelo de referência é cerca de *0.777*, sugerindo que **a maioria dos produtos recomendados era relevante e que produtos relevantes foram recomendados**."
      ]
    },
    {
      "cell_type": "markdown",
      "metadata": {
        "lang": "pt",
        "id": "qtqVqpkmNky4"
      },
      "source": [
        "Agora, **preveremos a avaliação para o usuário com `userId=A3LDPF5FMB782Z` e o `productId=1400501466`**, conforme mostrado abaixo. Neste caso, o usuário já interagiu ou viu o produto com productId \"1400501466\" e atribuiu uma nota 5."
      ]
    },
    {
      "cell_type": "code",
      "execution_count": null,
      "metadata": {
        "id": "Sxd23bZ9pe_x",
        "colab": {
          "base_uri": "https://localhost:8080/"
        },
        "outputId": "e1e4fa80-a6ba-469b-daf9-5ec093433ae0"
      },
      "outputs": [
        {
          "output_type": "stream",
          "name": "stdout",
          "text": [
            "user: A3LDPF5FMB782Z item: 1400501466 r_ui = 5.00   est = 4.26   {'was_impossible': True, 'reason': 'User and/or item is unknown.'}\n"
          ]
        },
        {
          "output_type": "execute_result",
          "data": {
            "text/plain": [
              "Prediction(uid='A3LDPF5FMB782Z', iid=1400501466, r_ui=5, est=4.263416620322555, details={'was_impossible': True, 'reason': 'User and/or item is unknown.'})"
            ]
          },
          "metadata": {},
          "execution_count": 30
        }
      ],
      "source": [
        "# Predicting rating for a sample user with an interacted product\n",
        "algo_knn_user.predict('A3LDPF5FMB782Z', 1400501466, r_ui=5, verbose=True)"
      ]
    },
    {
      "cell_type": "markdown",
      "metadata": {
        "lang": "pt",
        "id": "6ME9YKn1Nky5"
      },
      "source": [
        "**Escreva suas observações aqui:**\n",
        "- Observamos que a avaliação real para este par usuário-item é **5**, sendo a avaliação prevista por este modelo de referência baseado em similaridade igual a **4.26**, o que não é muito bom."
      ]
    },
    {
      "cell_type": "markdown",
      "metadata": {
        "lang": "pt",
        "id": "C3lH8_LxNky5"
      },
      "source": [
        "Abaixo, está a **lista de usuários que não viram o produto com productId \"1400501466\"**."
      ]
    },
    {
      "cell_type": "code",
      "execution_count": null,
      "metadata": {
        "id": "xCRBMD-RTsno",
        "colab": {
          "base_uri": "https://localhost:8080/"
        },
        "outputId": "bce4f0cb-f7cd-4b33-bb2c-a11602b0532f"
      },
      "outputs": [
        {
          "output_type": "execute_result",
          "data": {
            "text/plain": [
              "array(['A3BY5KCNQZXV5U', 'AT09WGFUM934H', 'A32HSNCNPRUMTR', ...,\n",
              "       'AT53ZTTO707MB', 'A1X3ESYZ79H59E', 'A328S9RN3U5M68'], dtype=object)"
            ]
          },
          "metadata": {},
          "execution_count": 31
        }
      ],
      "source": [
        "# Find unique user_id where prod_id is not equal to \"1400501466\"\n",
        "df[df['prod_id'] != '1400501466']['user_id'].unique()"
      ]
    },
    {
      "cell_type": "markdown",
      "metadata": {
        "lang": "pt",
        "id": "Fl67XMquNky5"
      },
      "source": [
        "* Pode-se observar na lista acima que **o usuário \"A3BY5KCNQZXV5U\"** não viu o produto com productId **\"1400501466\"**, pois esse userId faz parte da lista acima."
      ]
    },
    {
      "cell_type": "markdown",
      "metadata": {
        "lang": "pt",
        "id": "WdNb36L9Nky5"
      },
      "source": [
        "**Abaixo, estamos prevendo a avaliação/nota para `userId=A3BY5KCNQZXV5U` e `prod_id=1400501466`.**"
      ]
    },
    {
      "cell_type": "code",
      "execution_count": null,
      "metadata": {
        "id": "PbFcBj1PpfEV",
        "colab": {
          "base_uri": "https://localhost:8080/"
        },
        "outputId": "c8a87d02-24b0-49fd-a350-4fb88f5ed7c2"
      },
      "outputs": [
        {
          "output_type": "stream",
          "name": "stdout",
          "text": [
            "user: A3BY5KCNQZXV5U item: 1400501466 r_ui = None   est = 4.26   {'was_impossible': True, 'reason': 'User and/or item is unknown.'}\n"
          ]
        },
        {
          "output_type": "execute_result",
          "data": {
            "text/plain": [
              "Prediction(uid='A3BY5KCNQZXV5U', iid=1400501466, r_ui=None, est=4.263416620322555, details={'was_impossible': True, 'reason': 'User and/or item is unknown.'})"
            ]
          },
          "metadata": {},
          "execution_count": 32
        }
      ],
      "source": [
        "# Predicting rating for a sample user with a non interacted product\n",
        "algo_knn_user.predict('A3BY5KCNQZXV5U', 1400501466, verbose=True)"
      ]
    },
    {
      "cell_type": "markdown",
      "metadata": {
        "lang": "pt",
        "id": "bDlewrXSNky5"
      },
      "source": [
        "**Escreva suas observações aqui:**\n",
        "- A avaliação prevista do usuário **A3BY5KCNQZXV5U** por este modelo de referência baseado em similaridade igual a **4.26**"
      ]
    },
    {
      "cell_type": "markdown",
      "metadata": {
        "lang": "pt",
        "id": "st-E7CGLNky5"
      },
      "source": [
        "### **Melhorando o sistema de recomendação baseado em similaridade ajustando seus hiperparâmetros**"
      ]
    },
    {
      "cell_type": "markdown",
      "metadata": {
        "lang": "pt",
        "id": "DxIScJ3VNky6"
      },
      "source": [
        "Abaixo, estaremos ajustando hiperparâmetros para o algoritmo `KNNBasic`. Vamos entender alguns dos hiperparâmetros do algoritmo KNNBasic:\n",
        "\n",
        "- **k** (int): o número (máximo) de vizinhos a serem considerados para agregação. O padrão é 40.\n",
        "- **min_k** (int): o número mínimo de vizinhos a serem considerados para agregação. Se não houver vizinhos suficientes, a previsão é definida como a média global de todas as avaliações (notas). O padrão é 1.\n",
        "- **sim_options** (dict): um dicionário de opções para a medida de similaridade. E há quatro medidas de similaridade disponíveis em Surprise:\n",
        "    - cosseno\n",
        "    - msd (distância média quadrática, padrão)\n",
        "    - Pearson\n",
        "    - baseline de Pearson"
      ]
    },
    {
      "cell_type": "code",
      "execution_count": null,
      "metadata": {
        "id": "9LmPbSUSTsnp",
        "colab": {
          "base_uri": "https://localhost:8080/"
        },
        "outputId": "899a7891-e55e-450e-9472-13f024c1da62"
      },
      "outputs": [
        {
          "output_type": "stream",
          "name": "stdout",
          "text": [
            "1.0532045098026026\n",
            "{'k': 40, 'min_k': 4, 'sim_options': {'name': 'cosine', 'user_based': True}}\n"
          ]
        }
      ],
      "source": [
        "# Setting up parameter grid to tune the hyperparameters\n",
        "param_grid = {'k': [20, 30, 40], 'min_k': [4, 6, 9],\n",
        "              'sim_options': {'name': ['msd', 'cosine'],\n",
        "                              'user_based': [True]}\n",
        "              }\n",
        "# Performing 3-fold cross-validation to tune the hyperparameters\n",
        "gs = GridSearchCV(KNNBasic, param_grid, measures=['rmse', 'mae'], cv=3, n_jobs=-1)\n",
        "# Fitting the data\n",
        "gs.fit(data)\n",
        "# Best RMSE score\n",
        "print(gs.best_score['rmse'])\n",
        "# Combination of parameters that gave the best RMSE score\n",
        "print(gs.best_params['rmse'])"
      ]
    },
    {
      "cell_type": "markdown",
      "metadata": {
        "lang": "pt",
        "id": "0AjVSbK0Nky6"
      },
      "source": [
        "Assim que a busca em grade (grid search) estiver **concluída**, podemos obter os **valores ideais para cada um desses hiperparâmetros**."
      ]
    },
    {
      "cell_type": "markdown",
      "metadata": {
        "lang": "pt",
        "id": "lnVcL3W6Nky6"
      },
      "source": [
        "Agora, criaremos o **modelo final usando os valores ajustados dos hiperparâmetros** que recebemos usando a **busca em grade com validação cruzada**."
      ]
    },
    {
      "cell_type": "code",
      "execution_count": null,
      "metadata": {
        "id": "PujRJA8X_JEJ",
        "colab": {
          "base_uri": "https://localhost:8080/"
        },
        "outputId": "d56cd613-2d3b-408f-8f73-e885760aff43"
      },
      "outputs": [
        {
          "output_type": "stream",
          "name": "stdout",
          "text": [
            "RMSE: 1.0512\n",
            "Precision:  0.838\n",
            "Recall:  0.721\n",
            "F_1 score:  0.775\n"
          ]
        }
      ],
      "source": [
        "# Using the optimal similarity measure for user-user based collaborative filtering\n",
        "sim_options_2 = {'name': 'msd',\n",
        "               'user_based': True}\n",
        "\n",
        "# Creating an instance of KNNBasic with optimal hyperparameter values\n",
        "similarity_algo_optimized = KNNBasic(sim_options_2=sim_options_2, k=40, min_k=4, verbose=False)\n",
        "\n",
        "# Training the algorithm on the train set\n",
        "similarity_algo_optimized.fit(trainset)\n",
        "\n",
        "# Let us compute precision@k and recall@k with k=6.\n",
        "precision_recall_at_k(similarity_algo_optimized)"
      ]
    },
    {
      "cell_type": "markdown",
      "metadata": {
        "lang": "pt",
        "id": "4br4vnAENky6"
      },
      "source": [
        "O modelo ajustado apresentou melhorias significativas em relação ao modelo de referência:\n",
        "\n",
        "1. **RMSE (Root Mean Square Error):**\n",
        "   - Modelo Ajustado: **1.0512** (melhoria em relação a **1.1089** no modelo de referência).\n",
        "\n",
        "2. **Precision:**\n",
        "   - Modelo Ajustado: **0.838** (ligeira redução em relação a **0.858** no modelo de referência).\n",
        "\n",
        "3. **Recall:**\n",
        "   - Modelo Ajustado: **0.721** (aumento substancial em relação a **0.516** no modelo de referência).\n",
        "\n",
        "4. **F-1 Score:**\n",
        "   - Modelo Ajustado: **0.775** (melhoria em relação a **0.644** no modelo de referência).\n",
        "\n",
        "Em resumo, o ajuste de hiperparâmetros resultou em um modelo mais preciso, evidenciado pela redução no RMSE, e mais equilibrado, indicado pelo aumento no recall e F-1 score. Apesar de uma pequena diminuição na precisão, as melhorias globais sugerem benefícios significativos no modelo ajustado."
      ]
    },
    {
      "cell_type": "markdown",
      "metadata": {
        "lang": "pt",
        "id": "N0VEkk-6Nky6"
      },
      "source": [
        "### **Passos:**\n",
        "- **Prever a nota para o usuário com `userId=\"A3LDPF5FMB782Z\"` e o `prod_id= \"1400501466\"` usando o modelo otimizado.**\n",
        "- **Prever a nota para o usuário com `userId=\"A34BZM6S9L7QI4\"`, que não interagiu com o `prod_id =\"1400501466\"`, usando o modelo otimizado.**\n",
        "- **Comparar a saída com a saída do modelo de referência.**"
      ]
    },
    {
      "cell_type": "code",
      "execution_count": null,
      "metadata": {
        "id": "FgV63lHiq1TV",
        "colab": {
          "base_uri": "https://localhost:8080/"
        },
        "outputId": "fc11c9f1-cbbf-4151-f51d-4f56a5ef1643"
      },
      "outputs": [
        {
          "output_type": "stream",
          "name": "stdout",
          "text": [
            "user: A3LDPF5FMB782Z item: 1400501466 r_ui = None   est = 4.26   {'was_impossible': True, 'reason': 'User and/or item is unknown.'}\n"
          ]
        },
        {
          "output_type": "execute_result",
          "data": {
            "text/plain": [
              "Prediction(uid='A3LDPF5FMB782Z', iid=1400501466, r_ui=None, est=4.263416620322555, details={'was_impossible': True, 'reason': 'User and/or item is unknown.'})"
            ]
          },
          "metadata": {},
          "execution_count": 35
        }
      ],
      "source": [
        "# Use sim_user_user_optimized model to recommend for userId \"A3LDPF5FMB782Z\" and productId 1400501466\n",
        "similarity_algo_optimized.predict('A3LDPF5FMB782Z', 1400501466, verbose=True)"
      ]
    },
    {
      "cell_type": "code",
      "execution_count": null,
      "metadata": {
        "id": "HXO2Ztjhq1bN",
        "colab": {
          "base_uri": "https://localhost:8080/"
        },
        "outputId": "101a4ff7-71d2-4b56-9297-25d711c59f80"
      },
      "outputs": [
        {
          "output_type": "stream",
          "name": "stdout",
          "text": [
            "user: A3BY5KCNQZXV5U item: 1400501466 r_ui = None   est = 4.26   {'was_impossible': True, 'reason': 'User and/or item is unknown.'}\n"
          ]
        },
        {
          "output_type": "execute_result",
          "data": {
            "text/plain": [
              "Prediction(uid='A3BY5KCNQZXV5U', iid=1400501466, r_ui=None, est=4.263416620322555, details={'was_impossible': True, 'reason': 'User and/or item is unknown.'})"
            ]
          },
          "metadata": {},
          "execution_count": 36
        }
      ],
      "source": [
        "# Use sim_user_user_optimized model to recommend for userId \"A3BY5KCNQZXV5U\" and productId \"1400501466\"\n",
        "similarity_algo_optimized.predict('A3BY5KCNQZXV5U', 1400501466, verbose=True)"
      ]
    },
    {
      "cell_type": "markdown",
      "metadata": {
        "lang": "pt",
        "id": "89Cn8ns-Nky7"
      },
      "source": [
        "**Escreva suas observações aqui:**\n",
        "- Não há diferença na previsão do modelo de referência e do modelo ajustado para esse par usuário-item específico. Ambos os modelos previram a avaliação como **4.26**, muito distante da real, igual a **5**.\n",
        "- Provavelmente o modelo está **''overfitando''** porque mesmo mudando os usuários o valor **não** sofre alteração considerável."
      ]
    },
    {
      "cell_type": "markdown",
      "metadata": {
        "lang": "pt",
        "id": "2B5ST2BTNky7"
      },
      "source": [
        "### **Identificando usuários semelhantes a um determinado usuário (vizinhos mais próximos)**"
      ]
    },
    {
      "cell_type": "markdown",
      "metadata": {
        "lang": "pt",
        "id": "Yuu2oknzNky7"
      },
      "source": [
        "Também podemos descobrir **usuários semelhantes a um determinado usuário** ou seus **vizinhos mais próximos** com base neste algoritmo KNNBasic. Abaixo, encontramos os cinco usuários mais semelhantes ao primeiro usuário da lista com id interno 0, com base na métrica de distância `msd`."
      ]
    },
    {
      "cell_type": "code",
      "execution_count": null,
      "metadata": {
        "id": "TbFle7cKmBJG",
        "colab": {
          "base_uri": "https://localhost:8080/"
        },
        "outputId": "def3cc0f-9ee7-47ef-ddc8-5dec1a07c890"
      },
      "outputs": [
        {
          "output_type": "execute_result",
          "data": {
            "text/plain": [
              "[5, 8, 19, 22, 25]"
            ]
          },
          "metadata": {},
          "execution_count": 37
        }
      ],
      "source": [
        "# 0 is the inner id of the above user\n",
        "similarity_algo_optimized.get_neighbors(0, k=5)"
      ]
    },
    {
      "cell_type": "markdown",
      "metadata": {
        "lang": "pt",
        "id": "wCi0sbDdNky7"
      },
      "source": [
        "### **Implementação do algoritmo de recomendação baseado no modelo KNNBasic otimizado**"
      ]
    },
    {
      "cell_type": "markdown",
      "metadata": {
        "lang": "pt",
        "id": "wr-03lZ6Nky7"
      },
      "source": [
        "Abaixo, implementaremos uma função, na qual os parâmetros de entrada são:\n",
        "\n",
        "- data: conjunto de dados de avaliações/notas (**rating**).\n",
        "- user_id: id do usuário **em relação ao qual desejamos as recomendações**.\n",
        "- top_n: **número de produtos que queremos recomendar**.\n",
        "- algo: algoritmo que queremos usar **para prever as avaliações/notas**.\n",
        "- A saída da função é um **conjunto de top_n itens** recomendado para o dado user_id com base no algoritmo fornecido."
      ]
    },
    {
      "cell_type": "code",
      "execution_count": null,
      "metadata": {
        "id": "vW9V1Tk65HlY"
      },
      "outputs": [],
      "source": [
        "def get_recommendations(data, user_id, top_n, algo):\n",
        "\n",
        "    # Creating an empty list to store the recommended product ids\n",
        "    recommendations = []\n",
        "\n",
        "    # Creating an user item interactions matrix\n",
        "    user_item_interactions_matrix = data.pivot(index = 'user_id', columns = 'prod_id', values = 'rating')\n",
        "\n",
        "    # Extracting those product ids which the user_id has not interacted yet\n",
        "    non_interacted_products = user_item_interactions_matrix.loc[user_id][user_item_interactions_matrix.loc[user_id].isnull()].index.tolist()\n",
        "\n",
        "    # Looping through each of the product ids which user_id has not interacted yet\n",
        "    for item_id in non_interacted_products:\n",
        "\n",
        "        # Predicting the ratings for those non interacted product ids by this user\n",
        "        est = algo.predict(user_id, item_id).est\n",
        "\n",
        "        # Appending the predicted ratings\n",
        "        recommendations.append((item_id, est))\n",
        "\n",
        "    # Sorting the predicted ratings in descending order\n",
        "    recommendations.sort(key = lambda x: x[1], reverse = True)\n",
        "\n",
        "    return recommendations[:top_n] # Returing top n highest predicted rating products for this user"
      ]
    },
    {
      "cell_type": "markdown",
      "metadata": {
        "lang": "pt",
        "id": "vh3QTszDNky8"
      },
      "source": [
        "\n",
        "\n",
        "```\n",
        "# Isto está formatado como código\n",
        "```\n",
        "\n",
        "**Prevendo os cinco principais produtos para o userId = \"A3LDPF5FMB782Z\" com sistema de recomendação baseado em similaridade**"
      ]
    },
    {
      "cell_type": "code",
      "source": [
        "# Making top 5 recommendations for user_id \"A3LDPF5FMB782Z\" with a similarity-based recommendation engine\n",
        "\n",
        "get_recommendations(df, 'A3LDPF5FMB782Z', 5, similarity_algo_optimized)\n"
      ],
      "metadata": {
        "colab": {
          "base_uri": "https://localhost:8080/"
        },
        "id": "RlkfZiP1-BBa",
        "outputId": "f818edff-8ef2-42cf-c953-9c32ff98698a"
      },
      "execution_count": null,
      "outputs": [
        {
          "output_type": "execute_result",
          "data": {
            "text/plain": [
              "[('0594451647', 4.263416620322555),\n",
              " ('0594481813', 4.263416620322555),\n",
              " ('0970407998', 4.263416620322555),\n",
              " ('0972683275', 4.263416620322555),\n",
              " ('1400532620', 4.263416620322555)]"
            ]
          },
          "metadata": {},
          "execution_count": 39
        }
      ]
    },
    {
      "cell_type": "code",
      "source": [
        "# Building the dataframe for above recommendations with columns \"prod_id\" and \"predicted_ratings\"\n",
        "\n",
        "df_recommendations = pd.DataFrame(get_recommendations(df, 'A3LDPF5FMB782Z', 5, similarity_algo_optimized), columns = ['prod_id', 'predicted_ratings'])\n",
        "df_recommendations"
      ],
      "metadata": {
        "colab": {
          "base_uri": "https://localhost:8080/",
          "height": 206
        },
        "id": "WmhAyRwS-Ptn",
        "outputId": "209ce1c3-777d-4e8f-b019-9ca77001fab7"
      },
      "execution_count": null,
      "outputs": [
        {
          "output_type": "execute_result",
          "data": {
            "text/plain": [
              "      prod_id  predicted_ratings\n",
              "0  0594451647           4.263417\n",
              "1  0594481813           4.263417\n",
              "2  0970407998           4.263417\n",
              "3  0972683275           4.263417\n",
              "4  1400532620           4.263417"
            ],
            "text/html": [
              "\n",
              "  <div id=\"df-42113566-1e43-4155-ba0c-4c8754fc79e5\" class=\"colab-df-container\">\n",
              "    <div>\n",
              "<style scoped>\n",
              "    .dataframe tbody tr th:only-of-type {\n",
              "        vertical-align: middle;\n",
              "    }\n",
              "\n",
              "    .dataframe tbody tr th {\n",
              "        vertical-align: top;\n",
              "    }\n",
              "\n",
              "    .dataframe thead th {\n",
              "        text-align: right;\n",
              "    }\n",
              "</style>\n",
              "<table border=\"1\" class=\"dataframe\">\n",
              "  <thead>\n",
              "    <tr style=\"text-align: right;\">\n",
              "      <th></th>\n",
              "      <th>prod_id</th>\n",
              "      <th>predicted_ratings</th>\n",
              "    </tr>\n",
              "  </thead>\n",
              "  <tbody>\n",
              "    <tr>\n",
              "      <th>0</th>\n",
              "      <td>0594451647</td>\n",
              "      <td>4.263417</td>\n",
              "    </tr>\n",
              "    <tr>\n",
              "      <th>1</th>\n",
              "      <td>0594481813</td>\n",
              "      <td>4.263417</td>\n",
              "    </tr>\n",
              "    <tr>\n",
              "      <th>2</th>\n",
              "      <td>0970407998</td>\n",
              "      <td>4.263417</td>\n",
              "    </tr>\n",
              "    <tr>\n",
              "      <th>3</th>\n",
              "      <td>0972683275</td>\n",
              "      <td>4.263417</td>\n",
              "    </tr>\n",
              "    <tr>\n",
              "      <th>4</th>\n",
              "      <td>1400532620</td>\n",
              "      <td>4.263417</td>\n",
              "    </tr>\n",
              "  </tbody>\n",
              "</table>\n",
              "</div>\n",
              "    <div class=\"colab-df-buttons\">\n",
              "\n",
              "  <div class=\"colab-df-container\">\n",
              "    <button class=\"colab-df-convert\" onclick=\"convertToInteractive('df-42113566-1e43-4155-ba0c-4c8754fc79e5')\"\n",
              "            title=\"Convert this dataframe to an interactive table.\"\n",
              "            style=\"display:none;\">\n",
              "\n",
              "  <svg xmlns=\"http://www.w3.org/2000/svg\" height=\"24px\" viewBox=\"0 -960 960 960\">\n",
              "    <path d=\"M120-120v-720h720v720H120Zm60-500h600v-160H180v160Zm220 220h160v-160H400v160Zm0 220h160v-160H400v160ZM180-400h160v-160H180v160Zm440 0h160v-160H620v160ZM180-180h160v-160H180v160Zm440 0h160v-160H620v160Z\"/>\n",
              "  </svg>\n",
              "    </button>\n",
              "\n",
              "  <style>\n",
              "    .colab-df-container {\n",
              "      display:flex;\n",
              "      gap: 12px;\n",
              "    }\n",
              "\n",
              "    .colab-df-convert {\n",
              "      background-color: #E8F0FE;\n",
              "      border: none;\n",
              "      border-radius: 50%;\n",
              "      cursor: pointer;\n",
              "      display: none;\n",
              "      fill: #1967D2;\n",
              "      height: 32px;\n",
              "      padding: 0 0 0 0;\n",
              "      width: 32px;\n",
              "    }\n",
              "\n",
              "    .colab-df-convert:hover {\n",
              "      background-color: #E2EBFA;\n",
              "      box-shadow: 0px 1px 2px rgba(60, 64, 67, 0.3), 0px 1px 3px 1px rgba(60, 64, 67, 0.15);\n",
              "      fill: #174EA6;\n",
              "    }\n",
              "\n",
              "    .colab-df-buttons div {\n",
              "      margin-bottom: 4px;\n",
              "    }\n",
              "\n",
              "    [theme=dark] .colab-df-convert {\n",
              "      background-color: #3B4455;\n",
              "      fill: #D2E3FC;\n",
              "    }\n",
              "\n",
              "    [theme=dark] .colab-df-convert:hover {\n",
              "      background-color: #434B5C;\n",
              "      box-shadow: 0px 1px 3px 1px rgba(0, 0, 0, 0.15);\n",
              "      filter: drop-shadow(0px 1px 2px rgba(0, 0, 0, 0.3));\n",
              "      fill: #FFFFFF;\n",
              "    }\n",
              "  </style>\n",
              "\n",
              "    <script>\n",
              "      const buttonEl =\n",
              "        document.querySelector('#df-42113566-1e43-4155-ba0c-4c8754fc79e5 button.colab-df-convert');\n",
              "      buttonEl.style.display =\n",
              "        google.colab.kernel.accessAllowed ? 'block' : 'none';\n",
              "\n",
              "      async function convertToInteractive(key) {\n",
              "        const element = document.querySelector('#df-42113566-1e43-4155-ba0c-4c8754fc79e5');\n",
              "        const dataTable =\n",
              "          await google.colab.kernel.invokeFunction('convertToInteractive',\n",
              "                                                    [key], {});\n",
              "        if (!dataTable) return;\n",
              "\n",
              "        const docLinkHtml = 'Like what you see? Visit the ' +\n",
              "          '<a target=\"_blank\" href=https://colab.research.google.com/notebooks/data_table.ipynb>data table notebook</a>'\n",
              "          + ' to learn more about interactive tables.';\n",
              "        element.innerHTML = '';\n",
              "        dataTable['output_type'] = 'display_data';\n",
              "        await google.colab.output.renderOutput(dataTable, element);\n",
              "        const docLink = document.createElement('div');\n",
              "        docLink.innerHTML = docLinkHtml;\n",
              "        element.appendChild(docLink);\n",
              "      }\n",
              "    </script>\n",
              "  </div>\n",
              "\n",
              "\n",
              "<div id=\"df-f6f23945-11dc-4eb0-9cc0-ff815512cea4\">\n",
              "  <button class=\"colab-df-quickchart\" onclick=\"quickchart('df-f6f23945-11dc-4eb0-9cc0-ff815512cea4')\"\n",
              "            title=\"Suggest charts\"\n",
              "            style=\"display:none;\">\n",
              "\n",
              "<svg xmlns=\"http://www.w3.org/2000/svg\" height=\"24px\"viewBox=\"0 0 24 24\"\n",
              "     width=\"24px\">\n",
              "    <g>\n",
              "        <path d=\"M19 3H5c-1.1 0-2 .9-2 2v14c0 1.1.9 2 2 2h14c1.1 0 2-.9 2-2V5c0-1.1-.9-2-2-2zM9 17H7v-7h2v7zm4 0h-2V7h2v10zm4 0h-2v-4h2v4z\"/>\n",
              "    </g>\n",
              "</svg>\n",
              "  </button>\n",
              "\n",
              "<style>\n",
              "  .colab-df-quickchart {\n",
              "      --bg-color: #E8F0FE;\n",
              "      --fill-color: #1967D2;\n",
              "      --hover-bg-color: #E2EBFA;\n",
              "      --hover-fill-color: #174EA6;\n",
              "      --disabled-fill-color: #AAA;\n",
              "      --disabled-bg-color: #DDD;\n",
              "  }\n",
              "\n",
              "  [theme=dark] .colab-df-quickchart {\n",
              "      --bg-color: #3B4455;\n",
              "      --fill-color: #D2E3FC;\n",
              "      --hover-bg-color: #434B5C;\n",
              "      --hover-fill-color: #FFFFFF;\n",
              "      --disabled-bg-color: #3B4455;\n",
              "      --disabled-fill-color: #666;\n",
              "  }\n",
              "\n",
              "  .colab-df-quickchart {\n",
              "    background-color: var(--bg-color);\n",
              "    border: none;\n",
              "    border-radius: 50%;\n",
              "    cursor: pointer;\n",
              "    display: none;\n",
              "    fill: var(--fill-color);\n",
              "    height: 32px;\n",
              "    padding: 0;\n",
              "    width: 32px;\n",
              "  }\n",
              "\n",
              "  .colab-df-quickchart:hover {\n",
              "    background-color: var(--hover-bg-color);\n",
              "    box-shadow: 0 1px 2px rgba(60, 64, 67, 0.3), 0 1px 3px 1px rgba(60, 64, 67, 0.15);\n",
              "    fill: var(--button-hover-fill-color);\n",
              "  }\n",
              "\n",
              "  .colab-df-quickchart-complete:disabled,\n",
              "  .colab-df-quickchart-complete:disabled:hover {\n",
              "    background-color: var(--disabled-bg-color);\n",
              "    fill: var(--disabled-fill-color);\n",
              "    box-shadow: none;\n",
              "  }\n",
              "\n",
              "  .colab-df-spinner {\n",
              "    border: 2px solid var(--fill-color);\n",
              "    border-color: transparent;\n",
              "    border-bottom-color: var(--fill-color);\n",
              "    animation:\n",
              "      spin 1s steps(1) infinite;\n",
              "  }\n",
              "\n",
              "  @keyframes spin {\n",
              "    0% {\n",
              "      border-color: transparent;\n",
              "      border-bottom-color: var(--fill-color);\n",
              "      border-left-color: var(--fill-color);\n",
              "    }\n",
              "    20% {\n",
              "      border-color: transparent;\n",
              "      border-left-color: var(--fill-color);\n",
              "      border-top-color: var(--fill-color);\n",
              "    }\n",
              "    30% {\n",
              "      border-color: transparent;\n",
              "      border-left-color: var(--fill-color);\n",
              "      border-top-color: var(--fill-color);\n",
              "      border-right-color: var(--fill-color);\n",
              "    }\n",
              "    40% {\n",
              "      border-color: transparent;\n",
              "      border-right-color: var(--fill-color);\n",
              "      border-top-color: var(--fill-color);\n",
              "    }\n",
              "    60% {\n",
              "      border-color: transparent;\n",
              "      border-right-color: var(--fill-color);\n",
              "    }\n",
              "    80% {\n",
              "      border-color: transparent;\n",
              "      border-right-color: var(--fill-color);\n",
              "      border-bottom-color: var(--fill-color);\n",
              "    }\n",
              "    90% {\n",
              "      border-color: transparent;\n",
              "      border-bottom-color: var(--fill-color);\n",
              "    }\n",
              "  }\n",
              "</style>\n",
              "\n",
              "  <script>\n",
              "    async function quickchart(key) {\n",
              "      const quickchartButtonEl =\n",
              "        document.querySelector('#' + key + ' button');\n",
              "      quickchartButtonEl.disabled = true;  // To prevent multiple clicks.\n",
              "      quickchartButtonEl.classList.add('colab-df-spinner');\n",
              "      try {\n",
              "        const charts = await google.colab.kernel.invokeFunction(\n",
              "            'suggestCharts', [key], {});\n",
              "      } catch (error) {\n",
              "        console.error('Error during call to suggestCharts:', error);\n",
              "      }\n",
              "      quickchartButtonEl.classList.remove('colab-df-spinner');\n",
              "      quickchartButtonEl.classList.add('colab-df-quickchart-complete');\n",
              "    }\n",
              "    (() => {\n",
              "      let quickchartButtonEl =\n",
              "        document.querySelector('#df-f6f23945-11dc-4eb0-9cc0-ff815512cea4 button');\n",
              "      quickchartButtonEl.style.display =\n",
              "        google.colab.kernel.accessAllowed ? 'block' : 'none';\n",
              "    })();\n",
              "  </script>\n",
              "</div>\n",
              "\n",
              "  <div id=\"id_46ace44a-11f3-4f67-8a18-83d6f0a313a3\">\n",
              "    <style>\n",
              "      .colab-df-generate {\n",
              "        background-color: #E8F0FE;\n",
              "        border: none;\n",
              "        border-radius: 50%;\n",
              "        cursor: pointer;\n",
              "        display: none;\n",
              "        fill: #1967D2;\n",
              "        height: 32px;\n",
              "        padding: 0 0 0 0;\n",
              "        width: 32px;\n",
              "      }\n",
              "\n",
              "      .colab-df-generate:hover {\n",
              "        background-color: #E2EBFA;\n",
              "        box-shadow: 0px 1px 2px rgba(60, 64, 67, 0.3), 0px 1px 3px 1px rgba(60, 64, 67, 0.15);\n",
              "        fill: #174EA6;\n",
              "      }\n",
              "\n",
              "      [theme=dark] .colab-df-generate {\n",
              "        background-color: #3B4455;\n",
              "        fill: #D2E3FC;\n",
              "      }\n",
              "\n",
              "      [theme=dark] .colab-df-generate:hover {\n",
              "        background-color: #434B5C;\n",
              "        box-shadow: 0px 1px 3px 1px rgba(0, 0, 0, 0.15);\n",
              "        filter: drop-shadow(0px 1px 2px rgba(0, 0, 0, 0.3));\n",
              "        fill: #FFFFFF;\n",
              "      }\n",
              "    </style>\n",
              "    <button class=\"colab-df-generate\" onclick=\"generateWithVariable('df_recommendations')\"\n",
              "            title=\"Generate code using this dataframe.\"\n",
              "            style=\"display:none;\">\n",
              "\n",
              "  <svg xmlns=\"http://www.w3.org/2000/svg\" height=\"24px\"viewBox=\"0 0 24 24\"\n",
              "       width=\"24px\">\n",
              "    <path d=\"M7,19H8.4L18.45,9,17,7.55,7,17.6ZM5,21V16.75L18.45,3.32a2,2,0,0,1,2.83,0l1.4,1.43a1.91,1.91,0,0,1,.58,1.4,1.91,1.91,0,0,1-.58,1.4L9.25,21ZM18.45,9,17,7.55Zm-12,3A5.31,5.31,0,0,0,4.9,8.1,5.31,5.31,0,0,0,1,6.5,5.31,5.31,0,0,0,4.9,4.9,5.31,5.31,0,0,0,6.5,1,5.31,5.31,0,0,0,8.1,4.9,5.31,5.31,0,0,0,12,6.5,5.46,5.46,0,0,0,6.5,12Z\"/>\n",
              "  </svg>\n",
              "    </button>\n",
              "    <script>\n",
              "      (() => {\n",
              "      const buttonEl =\n",
              "        document.querySelector('#id_46ace44a-11f3-4f67-8a18-83d6f0a313a3 button.colab-df-generate');\n",
              "      buttonEl.style.display =\n",
              "        google.colab.kernel.accessAllowed ? 'block' : 'none';\n",
              "\n",
              "      buttonEl.onclick = () => {\n",
              "        google.colab.notebook.generateWithVariable('df_recommendations');\n",
              "      }\n",
              "      })();\n",
              "    </script>\n",
              "  </div>\n",
              "\n",
              "    </div>\n",
              "  </div>\n"
            ]
          },
          "metadata": {},
          "execution_count": 40
        }
      ]
    },
    {
      "cell_type": "markdown",
      "metadata": {
        "lang": "pt",
        "id": "s9BsEgy2Nky8"
      },
      "source": [
        "### **Sistema de Recomendação de Filtragem Colaborativa Baseada em Similaridade Item-Item**"
      ]
    },
    {
      "cell_type": "markdown",
      "metadata": {
        "lang": "pt",
        "id": "Oevxcw02Nky8"
      },
      "source": [
        "* Acima, vimos a **filtragem colaborativa baseada em similaridade**, na qual a similaridade é calculada **entre usuários**. Agora, analisaremos a filtragem colaborativa baseada em similaridade, na qual a similaridade é examinada **entre os itens**."
      ]
    },
    {
      "cell_type": "code",
      "execution_count": null,
      "metadata": {
        "id": "W5RMcdzjTsns",
        "scrolled": false
      },
      "outputs": [],
      "source": [
        "# Declaring the similarity options\n",
        "\n",
        "# KNN algorithm is used to find desired similar items. Use random_state=1\n",
        "\n",
        "# Train the algorithm on the trainset, and predict ratings for the test set\n",
        "\n",
        "# Let us compute precision@k, recall@k, and f_1 score with k = 10\n"
      ]
    },
    {
      "cell_type": "code",
      "source": [
        "from surprise import KNNWithMeans\n",
        "from surprise import Dataset\n",
        "from surprise.model_selection import train_test_split\n",
        "from surprise import accuracy\n",
        "\n",
        "small_trainset, small_testset = train_test_split(data, test_size=0.1, random_state=1)\n",
        "# Dividindo os dados em conjunto de treinamento e teste\n",
        "trainset, testset = train_test_split(data, test_size=.30, random_state=1)\n",
        "\n",
        "# Configurando o algoritmo KNN\n",
        "sim_options = {\n",
        "    'name': 'cosine',  # medida de similaridade\n",
        "    'user_based': False  # item-item\n",
        "}\n",
        "algo = KNNWithMeans(sim_options=sim_options)\n",
        "\n",
        "# Treinando o algoritmo\n",
        "algo.fit(small_trainset)\n",
        "\n",
        "# Fazendo previsões no conjunto de teste\n",
        "predictions = algo.test(small_testset)\n",
        "\n",
        "# Calculando e imprimindo as métricas de avaliação\n",
        "precision = accuracy.precision(predictions, k=10)\n",
        "recall = accuracy.recall(predictions, k=10)\n",
        "f1 = 2 * (precision * recall) / (precision + recall)\n",
        "\n",
        "print(f'Precision: {precision}')\n",
        "print(f'Recall: {recall}')\n",
        "print(f'F1 Score: {f1}')"
      ],
      "metadata": {
        "id": "XSp7ipeCUQIH"
      },
      "execution_count": null,
      "outputs": []
    },
    {
      "cell_type": "markdown",
      "metadata": {
        "lang": "pt",
        "id": "gWpTZ7EGNky8"
      },
      "source": [
        "**Escreva suas observações aqui:**____________"
      ]
    },
    {
      "cell_type": "markdown",
      "metadata": {
        "lang": "pt",
        "id": "jd67-b3uNky8"
      },
      "source": [
        "Agora, **preveremos uma avaliação/nota para o usuário com `userId = A3LDPF5FMB782Z` e o `prod_Id = 1400501466`**, conforme mostrado abaixo. Neste caso, o usuário já interagiu ou viu o produto com productId \"1400501466\"."
      ]
    },
    {
      "cell_type": "code",
      "execution_count": null,
      "metadata": {
        "id": "JsF-aaWYTsns"
      },
      "outputs": [],
      "source": [
        "# Predicting rating for a sample user with an interacted product\n"
      ]
    },
    {
      "cell_type": "markdown",
      "metadata": {
        "lang": "pt",
        "id": "mLQsgl3BNky9"
      },
      "source": [
        "**Escreva suas observações aqui:**____________"
      ]
    },
    {
      "cell_type": "markdown",
      "metadata": {
        "lang": "pt",
        "id": "-il6kzg_Nky9"
      },
      "source": [
        "Abaixo, estamos **prevendo a avaliação/nota para o `userId = A34BZM6S9L7QI4` e o `prod_id = 1400501466`**."
      ]
    },
    {
      "cell_type": "code",
      "execution_count": null,
      "metadata": {
        "id": "5yILOxXRTsns"
      },
      "outputs": [],
      "source": [
        "# Predicting rating for a sample user with a non interacted product\n"
      ]
    },
    {
      "cell_type": "markdown",
      "metadata": {
        "lang": "pt",
        "id": "AttPQoV2Nky9"
      },
      "source": [
        "**Escreva suas observações aqui:**____________"
      ]
    },
    {
      "cell_type": "markdown",
      "metadata": {
        "lang": "pt",
        "id": "Fbtcj9BkNky9"
      },
      "source": [
        "### **Ajuste de hiperparâmetros do modelo baseado em similaridade item-item**\n",
        "- Use os seguintes valores para a grade de parâmetros (param_grid) e ajuste o modelo.\n",
        "  - 'k': [10, 20, 30]\n",
        "  - 'min_k': [3, 6, 9]\n",
        "  - 'sim_options': {'name': ['msd', 'cosine']\n",
        "  - 'user_based': [False]\n",
        "- Use GridSearchCV() para ajustar o modelo usando a medida RMSE.\n",
        "- Imprima o melhor escore e os melhores parâmetros."
      ]
    },
    {
      "cell_type": "code",
      "execution_count": null,
      "metadata": {
        "id": "f5bcZ3HgTsnt"
      },
      "outputs": [],
      "source": [
        "# Setting up parameter grid to tune the hyperparameters\n",
        "\n",
        "# Performing 3-fold cross validation to tune the hyperparameters\n",
        "\n",
        "# Fitting the data\n",
        "\n",
        "# Find the best RMSE score\n",
        "\n",
        "# Find the combination of parameters that gave the best RMSE score\n"
      ]
    },
    {
      "cell_type": "markdown",
      "metadata": {
        "lang": "pt",
        "id": "NDQ1dnroNky-"
      },
      "source": [
        "Assim que a **busca em grade (grid search)** estiver concluída, podemos obter os **valores ideais para cada um desses hiperparâmetros, conforme mostrado acima**."
      ]
    },
    {
      "cell_type": "markdown",
      "metadata": {
        "lang": "pt",
        "id": "xd1BdRq9Nky-"
      },
      "source": [
        "Agora, criaremos o **modelo final** usando os **valores ajustados dos hiperparâmetros** que recebemos usando a **busca em grade com validação cruzada**."
      ]
    },
    {
      "cell_type": "markdown",
      "metadata": {
        "lang": "pt",
        "id": "ECj3eTFXNky-"
      },
      "source": [
        "### **Use os melhores parâmetros do GridSearchCV para criar o modelo baseado em similaridade item-item otimizado. Compare o desempenho do modelo otimizado com o do modelo de referência.**"
      ]
    },
    {
      "cell_type": "code",
      "execution_count": null,
      "metadata": {
        "id": "dSeiM1qeTsnt"
      },
      "outputs": [],
      "source": [
        "# Using the optimal similarity measure for item-item based collaborative filtering\n",
        "\n",
        "# Creating an instance of KNNBasic with optimal hyperparameter values\n",
        "\n",
        "# Training the algorithm on the trainset\n",
        "\n",
        "# Let us compute precision@k and recall@k, f1_score and RMSE\n"
      ]
    },
    {
      "cell_type": "markdown",
      "metadata": {
        "lang": "pt",
        "id": "AkcCorexNky-"
      },
      "source": [
        "**Escreva suas observações aqui:__________**"
      ]
    },
    {
      "cell_type": "markdown",
      "metadata": {
        "lang": "pt",
        "id": "moJm7sDrNky-"
      },
      "source": [
        "### **Passos:**\n",
        "- **Prever a avaliação/nota para o usuário com `userId=\"A3LDPF5FMB782Z\"` e o `prod_id= \"1400501466\"` usando o modelo otimizado.**\n",
        "- **Prever a avaliação/nota para o usuário com `userId=\"A34BZM6S9L7QI4\"`, que não interagiu com o `prod_id =\"1400501466\"`, usando o modelo otimizado.**\n",
        "- **Comparar a saída com a saída do modelo de referência.**"
      ]
    },
    {
      "cell_type": "code",
      "execution_count": null,
      "metadata": {
        "id": "gIBRRvdoTsnt"
      },
      "outputs": [],
      "source": [
        "# Use sim_item_item_optimized model to recommend for userId \"A3LDPF5FMB782Z\" and productId \"1400501466\"\n"
      ]
    },
    {
      "cell_type": "code",
      "execution_count": null,
      "metadata": {
        "id": "AGYTNqJcNky-"
      },
      "outputs": [],
      "source": [
        "# Use sim_item_item_optimized model to recommend for userId \"A34BZM6S9L7QI4\" and productId \"1400501466\"\n"
      ]
    },
    {
      "cell_type": "markdown",
      "metadata": {
        "lang": "pt",
        "id": "31h8JCXPNky_"
      },
      "source": [
        "**Escreva suas observações aqui:__________**"
      ]
    },
    {
      "cell_type": "markdown",
      "metadata": {
        "lang": "pt",
        "id": "p_bvUBzjNky_"
      },
      "source": [
        "### **Identificando itens semelhantes a um determinado item (vizinhos mais próximos)**"
      ]
    },
    {
      "cell_type": "markdown",
      "metadata": {
        "lang": "pt",
        "id": "bWwlXA4oNky_"
      },
      "source": [
        "Também podemos descobrir **itens semelhantes** a um determinado item ou seus vizinhos mais próximos com base neste **algoritmo KNNBasic**. Abaixo, encontramos os cinco itens mais semelhantes ao item com id interno 0, com base na métrica de distância `msd`."
      ]
    },
    {
      "cell_type": "code",
      "execution_count": null,
      "metadata": {
        "id": "ZRJS4oDFTsnu"
      },
      "outputs": [],
      "source": []
    },
    {
      "cell_type": "markdown",
      "metadata": {
        "lang": "pt",
        "id": "kbXQlKnENky_"
      },
      "source": [
        "**Previsão dos cinco principais produtos para o userId = \"A1A5KUIIIHFF4U\" com o sistema de recomendação baseado em similaridade.**\n",
        "\n",
        "**Dica:** use a função get_recommendations()."
      ]
    },
    {
      "cell_type": "code",
      "execution_count": null,
      "metadata": {
        "id": "rzoEbuZFTsnu"
      },
      "outputs": [],
      "source": [
        "# Making top 5 recommendations for user_id A1A5KUIIIHFF4U with similarity-based recommendation engine.\n"
      ]
    },
    {
      "cell_type": "code",
      "execution_count": null,
      "metadata": {
        "id": "_kXVTiysTsnv"
      },
      "outputs": [],
      "source": [
        "# Building the dataframe for above recommendations with columns \"prod_id\" and \"predicted_ratings\"\n"
      ]
    },
    {
      "cell_type": "markdown",
      "metadata": {
        "lang": "pt",
        "id": "hTCeJE4PNky_"
      },
      "source": [
        "Agora, como vimos **algoritmos de filtragem colaborativa baseados em similaridade**, trataremos de **algoritmos de filtragem colaborativa baseados em modelo**."
      ]
    },
    {
      "cell_type": "markdown",
      "metadata": {
        "lang": "pt",
        "id": "JU0jBbmSNkzA"
      },
      "source": [
        "### **Modelo 3: Filtragem Colaborativa Baseada em Modelo: Fatoração de Matrizes**"
      ]
    },
    {
      "cell_type": "markdown",
      "metadata": {
        "lang": "pt",
        "id": "qrAoKaeKNkzA"
      },
      "source": [
        "A Filtragem Colaborativa Baseada em Modelo é um **sistema de recomendação personalizado**. As recomendações são baseadas no comportamento passado do usuário e não dependem de informações adicionais. Usamos **recursos latentes** para encontrar recomendações para cada usuário."
      ]
    },
    {
      "cell_type": "markdown",
      "metadata": {
        "lang": "pt",
        "id": "YA7DvZZQNkzA"
      },
      "source": [
        "### Decomposição em Valores Singulares (SVD)"
      ]
    },
    {
      "cell_type": "markdown",
      "metadata": {
        "lang": "pt",
        "id": "aBa6iBdPNkzA"
      },
      "source": [
        "SVD é usado para **computar os recursos latentes** da **matriz item-usuário**, mas não funciona quando **há valores ausentes** na **matriz item-usuário**."
      ]
    },
    {
      "cell_type": "code",
      "execution_count": null,
      "metadata": {
        "id": "07-2PT5Ssjqm"
      },
      "outputs": [],
      "source": [
        "# Using SVD matrix factorization. Use random_state = 1\n",
        "\n",
        "# Training the algorithm on the trainset\n",
        "\n",
        "# Use the function precision_recall_at_k to compute precision@k, recall@k, F1-Score, and RMSE\n"
      ]
    },
    {
      "cell_type": "markdown",
      "metadata": {
        "lang": "pt",
        "id": "gkCY62BqNkzA"
      },
      "source": [
        "**Escreva suas observações aqui:___________**"
      ]
    },
    {
      "cell_type": "markdown",
      "metadata": {
        "lang": "pt",
        "id": "raNKZu7MNkzA"
      },
      "source": [
        "**Agora, preveremos a avaliação/nota para o usuário com `userId = \"A3LDPF5FMB782Z\"` e o `prod_id = \"1400501466`.**"
      ]
    },
    {
      "cell_type": "code",
      "execution_count": null,
      "metadata": {
        "id": "yWIhfdxXsjqm"
      },
      "outputs": [],
      "source": [
        "# Making prediction\n"
      ]
    },
    {
      "cell_type": "markdown",
      "metadata": {
        "lang": "pt",
        "id": "9N9nM-D_NkzA"
      },
      "source": [
        "**Escreva suas observações aqui:___________**"
      ]
    },
    {
      "cell_type": "markdown",
      "metadata": {
        "lang": "pt",
        "id": "ftPShPhqNkzB"
      },
      "source": [
        "**Abaixo, estamos prevendo a avaliação/nota para o `userId = \"A34BZM6S9L7QI4\"` e o `productId = \"1400501466\"`.**"
      ]
    },
    {
      "cell_type": "code",
      "execution_count": null,
      "metadata": {
        "id": "APm-uMSvcAMf"
      },
      "outputs": [],
      "source": [
        "# Making prediction\n"
      ]
    },
    {
      "cell_type": "markdown",
      "metadata": {
        "lang": "pt",
        "id": "BJ0FPwSWNkzB"
      },
      "source": [
        "**Escreva suas observações aqui:___________**"
      ]
    },
    {
      "cell_type": "markdown",
      "metadata": {
        "lang": "pt",
        "id": "SyX6gX64NkzB"
      },
      "source": [
        "### **Melhorando o sistema de recomendação baseado em fatoração de matrizes ajustando seus hiperparâmetros**"
      ]
    },
    {
      "cell_type": "markdown",
      "metadata": {
        "lang": "pt",
        "id": "Zk8fR_LPNkzB"
      },
      "source": [
        "Abaixo, ajustaremos apenas três hiperparâmetros:\n",
        "- **n_epochs**: número de iterações do algoritmo SGD (Gradiente Descendente Estocástico).\n",
        "- **lr_all**: taxa de aprendizado para todos os parâmetros.\n",
        "- **reg_all**: termo de regularização para todos os parâmetros."
      ]
    },
    {
      "cell_type": "code",
      "execution_count": null,
      "metadata": {
        "id": "4bM81V_hvtwv"
      },
      "outputs": [],
      "source": [
        "# Set the parameter space to tune\n",
        "\n",
        "# Performing 3-fold gridsearch cross-validation\n",
        "\n",
        "# Fitting data\n",
        "\n",
        "# Best RMSE score\n",
        "\n",
        "# Combination of parameters that gave the best RMSE score\n"
      ]
    },
    {
      "cell_type": "markdown",
      "metadata": {
        "lang": "pt",
        "id": "Q_DfixVMNkzB"
      },
      "source": [
        "Agora, **criaremos o modelo final** usando os **valores ajustados** dos hiperparâmetros que recebemos usando a validação cruzada da busca em grade acima."
      ]
    },
    {
      "cell_type": "code",
      "execution_count": null,
      "metadata": {
        "id": "TA_7xe-nnhuu"
      },
      "outputs": [],
      "source": [
        "# Build the optimized SVD model using optimal hyperparameter search. Use random_state=1\n",
        "\n",
        "# Train the algorithm on the trainset\n",
        "\n",
        "# Use the function precision_recall_at_k to compute precision@k, recall@k, F1-Score, and RMSE\n"
      ]
    },
    {
      "cell_type": "markdown",
      "metadata": {
        "lang": "pt",
        "id": "ZFJBY-RpNkzC"
      },
      "source": [
        "**Escreva suas observações aqui:_____________**"
      ]
    },
    {
      "cell_type": "markdown",
      "metadata": {
        "lang": "pt",
        "id": "KnMhcnTWNkzC"
      },
      "source": [
        "### **Passos:**\n",
        "- **Prever a avaliação/nota para o usuário com `userId=\"A3LDPF5FMB782Z\"` e o `prod_id= \"1400501466\"` usando o modelo otimizado.**\n",
        "- **Prever a avaliação/nota para o `userId=\"A34BZM6S9L7QI4\"`, que não interagiu com `prod_id =\"1400501466\"`, usando o modelo otimizado.**\n",
        "- **Comparar a saída com a saída do modelo de referência.**"
      ]
    },
    {
      "cell_type": "code",
      "execution_count": null,
      "metadata": {
        "id": "IqSCkKdTNkzC"
      },
      "outputs": [],
      "source": [
        "# Use svd_algo_optimized model to recommend for userId \"A3LDPF5FMB782Z\" and productId \"1400501466\"\n"
      ]
    },
    {
      "cell_type": "code",
      "execution_count": null,
      "metadata": {
        "id": "l12VvBjiNkzC"
      },
      "outputs": [],
      "source": [
        "# Use svd_algo_optimized model to recommend for userId \"A34BZM6S9L7QI4\" and productId \"1400501466\"\n"
      ]
    },
    {
      "cell_type": "markdown",
      "metadata": {
        "lang": "pt",
        "id": "ovTouDjWNkzC"
      },
      "source": [
        "### **Conclusão e Recomendações**"
      ]
    },
    {
      "cell_type": "markdown",
      "metadata": {
        "lang": "pt",
        "id": "J8krKUTnNkzC"
      },
      "source": [
        "**Escreva sua conclusão e suas recomendações nesta parte.**"
      ]
    }
  ],
  "metadata": {
    "colab": {
      "provenance": [],
      "include_colab_link": true
    },
    "kernelspec": {
      "display_name": "Python 3 (ipykernel)",
      "language": "python",
      "name": "python3"
    },
    "language_info": {
      "codemirror_mode": {
        "name": "ipython",
        "version": 3
      },
      "file_extension": ".py",
      "mimetype": "text/x-python",
      "name": "python",
      "nbconvert_exporter": "python",
      "pygments_lexer": "ipython3",
      "version": "3.9.13"
    },
    "nbTranslate": {
      "displayLangs": [
        "pt"
      ],
      "hotkey": "alt-t",
      "langInMainMenu": true,
      "sourceLang": "en",
      "targetLang": "pt",
      "useGoogleTranslate": true
    }
  },
  "nbformat": 4,
  "nbformat_minor": 0
}